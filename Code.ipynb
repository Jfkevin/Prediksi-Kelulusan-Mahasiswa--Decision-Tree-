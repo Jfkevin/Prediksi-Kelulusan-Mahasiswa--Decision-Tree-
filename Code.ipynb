{
 "cells": [
  {
   "cell_type": "markdown",
   "id": "9690caf9",
   "metadata": {},
   "source": [
    "## <div align=\"center\"> LAB IS411 - Data Modelling </div>\n",
    "## <div align=\"center\"> Ujian Tengah Semester (UTS)</div>\n",
    "#### <div align=\"center\"> Semester Ganjil 2025/2026 </div>\n",
    "---"
   ]
  },
  {
   "cell_type": "code",
   "execution_count": 1,
   "id": "c21622e8",
   "metadata": {},
   "outputs": [
    {
     "name": "stdout",
     "output_type": "stream",
     "text": [
      "Name \t\t:Farrelius Kevin\n",
      "NIM \t\t:00000081783\n",
      "Class \t\t:IS411 - A\n",
      "\n",
      "Ujian Tengah Semester (UTS)\n"
     ]
    }
   ],
   "source": [
    "studentName = \"Farrelius Kevin\"\n",
    "studentNIM = \"00000081783\"\n",
    "studentClass = \"IS411 - A\"\n",
    "description = \"Ujian Tengah Semester (UTS)\"\n",
    "\n",
    "print(\"Name \\t\\t:{}\".format(studentName))\n",
    "print(\"NIM \\t\\t:{}\".format(studentNIM))\n",
    "print(\"Class \\t\\t:{}\\n\".format(studentClass))\n",
    "print(description)"
   ]
  },
  {
   "cell_type": "markdown",
   "id": "19d50a88",
   "metadata": {},
   "source": [
    "---"
   ]
  },
  {
   "cell_type": "markdown",
   "id": "0500f0c1",
   "metadata": {},
   "source": [
    "### Use the supporting dataset provided by `IS411_Data_Modelling_Data_Pendukung_UTS.csv` to answer all questions. "
   ]
  },
  {
   "cell_type": "markdown",
   "id": "8bd163a5",
   "metadata": {},
   "source": [
    "#### Import Dataset Menjadi Dataframe"
   ]
  },
  {
   "cell_type": "code",
   "execution_count": 2,
   "id": "dcae6437",
   "metadata": {},
   "outputs": [
    {
     "data": {
      "text/html": [
       "<div>\n",
       "<style scoped>\n",
       "    .dataframe tbody tr th:only-of-type {\n",
       "        vertical-align: middle;\n",
       "    }\n",
       "\n",
       "    .dataframe tbody tr th {\n",
       "        vertical-align: top;\n",
       "    }\n",
       "\n",
       "    .dataframe thead th {\n",
       "        text-align: right;\n",
       "    }\n",
       "</style>\n",
       "<table border=\"1\" class=\"dataframe\">\n",
       "  <thead>\n",
       "    <tr style=\"text-align: right;\">\n",
       "      <th></th>\n",
       "      <th>NIM;ANGKATAN;SEMESTER;KODE_MK;NAMA_MK;SKS;NILAI;GRADE</th>\n",
       "    </tr>\n",
       "  </thead>\n",
       "  <tbody>\n",
       "    <tr>\n",
       "      <th>0</th>\n",
       "      <td>10110310002;2010;1011;EM100;EM100 Dasar-dasar ...</td>\n",
       "    </tr>\n",
       "    <tr>\n",
       "      <th>1</th>\n",
       "      <td>10110310002;2010;1011;EM180;EM180 Matematika B...</td>\n",
       "    </tr>\n",
       "    <tr>\n",
       "      <th>2</th>\n",
       "      <td>10110310002;2010;1011;TI100;TI100 Algoritma da...</td>\n",
       "    </tr>\n",
       "    <tr>\n",
       "      <th>3</th>\n",
       "      <td>10110310002;2010;1011;TI101;TI101 Matematika D...</td>\n",
       "    </tr>\n",
       "    <tr>\n",
       "      <th>4</th>\n",
       "      <td>10110310002;2010;1011;TI110;TI110 Pengantar Te...</td>\n",
       "    </tr>\n",
       "  </tbody>\n",
       "</table>\n",
       "</div>"
      ],
      "text/plain": [
       "  NIM;ANGKATAN;SEMESTER;KODE_MK;NAMA_MK;SKS;NILAI;GRADE\n",
       "0  10110310002;2010;1011;EM100;EM100 Dasar-dasar ...   \n",
       "1  10110310002;2010;1011;EM180;EM180 Matematika B...   \n",
       "2  10110310002;2010;1011;TI100;TI100 Algoritma da...   \n",
       "3  10110310002;2010;1011;TI101;TI101 Matematika D...   \n",
       "4  10110310002;2010;1011;TI110;TI110 Pengantar Te...   "
      ]
     },
     "execution_count": 2,
     "metadata": {},
     "output_type": "execute_result"
    }
   ],
   "source": [
    "import pandas as pd\n",
    "\n",
    "df = pd.read_csv(\"IS411_Data_Modelling_Data_Pendukung_UTS.csv\")\n",
    "df.head()"
   ]
  },
  {
   "cell_type": "code",
   "execution_count": 3,
   "id": "863b338e",
   "metadata": {},
   "outputs": [
    {
     "data": {
      "text/html": [
       "<div>\n",
       "<style scoped>\n",
       "    .dataframe tbody tr th:only-of-type {\n",
       "        vertical-align: middle;\n",
       "    }\n",
       "\n",
       "    .dataframe tbody tr th {\n",
       "        vertical-align: top;\n",
       "    }\n",
       "\n",
       "    .dataframe thead th {\n",
       "        text-align: right;\n",
       "    }\n",
       "</style>\n",
       "<table border=\"1\" class=\"dataframe\">\n",
       "  <thead>\n",
       "    <tr style=\"text-align: right;\">\n",
       "      <th></th>\n",
       "      <th>NIM</th>\n",
       "      <th>ANGKATAN</th>\n",
       "      <th>SEMESTER</th>\n",
       "      <th>KODE_MK</th>\n",
       "      <th>NAMA_MK</th>\n",
       "      <th>SKS</th>\n",
       "      <th>NILAI</th>\n",
       "      <th>GRADE</th>\n",
       "    </tr>\n",
       "  </thead>\n",
       "  <tbody>\n",
       "    <tr>\n",
       "      <th>0</th>\n",
       "      <td>10110310002</td>\n",
       "      <td>2010</td>\n",
       "      <td>1011</td>\n",
       "      <td>EM100</td>\n",
       "      <td>EM100 Dasar-dasar Bisnis</td>\n",
       "      <td>3</td>\n",
       "      <td>57.0</td>\n",
       "      <td>C</td>\n",
       "    </tr>\n",
       "    <tr>\n",
       "      <th>1</th>\n",
       "      <td>10110310002</td>\n",
       "      <td>2010</td>\n",
       "      <td>1011</td>\n",
       "      <td>EM180</td>\n",
       "      <td>EM180 Matematika Bisnis</td>\n",
       "      <td>3</td>\n",
       "      <td>70.0</td>\n",
       "      <td>B</td>\n",
       "    </tr>\n",
       "    <tr>\n",
       "      <th>2</th>\n",
       "      <td>10110310002</td>\n",
       "      <td>2010</td>\n",
       "      <td>1011</td>\n",
       "      <td>TI100</td>\n",
       "      <td>TI100 Algoritma dan Pemrograman</td>\n",
       "      <td>4</td>\n",
       "      <td>57.0</td>\n",
       "      <td>C</td>\n",
       "    </tr>\n",
       "    <tr>\n",
       "      <th>3</th>\n",
       "      <td>10110310002</td>\n",
       "      <td>2010</td>\n",
       "      <td>1011</td>\n",
       "      <td>TI101</td>\n",
       "      <td>TI101 Matematika Diskrit</td>\n",
       "      <td>3</td>\n",
       "      <td>59.0</td>\n",
       "      <td>C</td>\n",
       "    </tr>\n",
       "    <tr>\n",
       "      <th>4</th>\n",
       "      <td>10110310002</td>\n",
       "      <td>2010</td>\n",
       "      <td>1011</td>\n",
       "      <td>TI110</td>\n",
       "      <td>TI110 Pengantar Teknologi Multimedia</td>\n",
       "      <td>3</td>\n",
       "      <td>74.0</td>\n",
       "      <td>B</td>\n",
       "    </tr>\n",
       "  </tbody>\n",
       "</table>\n",
       "</div>"
      ],
      "text/plain": [
       "           NIM  ANGKATAN  SEMESTER KODE_MK  \\\n",
       "0  10110310002      2010      1011   EM100   \n",
       "1  10110310002      2010      1011   EM180   \n",
       "2  10110310002      2010      1011   TI100   \n",
       "3  10110310002      2010      1011   TI101   \n",
       "4  10110310002      2010      1011   TI110   \n",
       "\n",
       "                                NAMA_MK  SKS  NILAI GRADE  \n",
       "0              EM100 Dasar-dasar Bisnis    3   57.0     C  \n",
       "1               EM180 Matematika Bisnis    3   70.0     B  \n",
       "2       TI100 Algoritma dan Pemrograman    4   57.0     C  \n",
       "3              TI101 Matematika Diskrit    3   59.0     C  \n",
       "4  TI110 Pengantar Teknologi Multimedia    3   74.0     B  "
      ]
     },
     "execution_count": 3,
     "metadata": {},
     "output_type": "execute_result"
    }
   ],
   "source": [
    "df = pd.read_csv(\"IS411_Data_Modelling_Data_Pendukung_UTS.csv\", sep=';')\n",
    "df.head()"
   ]
  },
  {
   "cell_type": "markdown",
   "id": "cca65599",
   "metadata": {},
   "source": [
    "- Secara default, pandas.read_csv() menganggap `koma (,)` sebagai pemisah antar kolom (delimiter).\n",
    "- Namun, pada kasus **file IS411_Data_Modelling_Data_Pendukung_UTS.csv**, menggunakan pemisah lain, seperti `titik koma (;) atau tab (\\t)`.\n",
    "- Akibatnya, Pandas membaca seluruh baris data sebagai satu kolom tunggal\n",
    "- Oleh karena itu, ada penambahan kode `sep=';'` untuk memberitahu Pandas delimiter yang benar.\n",
    "\n",
    "---"
   ]
  },
  {
   "cell_type": "markdown",
   "id": "0cd29556",
   "metadata": {},
   "source": [
    "#### Informasi Jumlah Data Pada Dataset"
   ]
  },
  {
   "cell_type": "code",
   "execution_count": 4,
   "id": "df82fb10",
   "metadata": {},
   "outputs": [
    {
     "data": {
      "text/plain": [
       "(30870, 8)"
      ]
     },
     "execution_count": 4,
     "metadata": {},
     "output_type": "execute_result"
    }
   ],
   "source": [
    "df.shape"
   ]
  },
  {
   "cell_type": "markdown",
   "id": "06deb8b3",
   "metadata": {},
   "source": [
    "Penjelasan :\n",
    "\n",
    "Total data yang ada pada dataset memiliki 30870 baris dengan 8 fitur / kolom\n",
    "\n",
    "---"
   ]
  },
  {
   "cell_type": "markdown",
   "id": "e9305d23",
   "metadata": {},
   "source": [
    "#### Informasi Nama Kolom dan Tipe Data"
   ]
  },
  {
   "cell_type": "code",
   "execution_count": 5,
   "id": "9b2c4b18",
   "metadata": {},
   "outputs": [
    {
     "name": "stdout",
     "output_type": "stream",
     "text": [
      "<class 'pandas.core.frame.DataFrame'>\n",
      "RangeIndex: 30870 entries, 0 to 30869\n",
      "Data columns (total 8 columns):\n",
      " #   Column    Non-Null Count  Dtype  \n",
      "---  ------    --------------  -----  \n",
      " 0   NIM       30870 non-null  int64  \n",
      " 1   ANGKATAN  30870 non-null  int64  \n",
      " 2   SEMESTER  30870 non-null  int64  \n",
      " 3   KODE_MK   30870 non-null  object \n",
      " 4   NAMA_MK   30847 non-null  object \n",
      " 5   SKS       30870 non-null  int64  \n",
      " 6   NILAI     30858 non-null  float64\n",
      " 7   GRADE     30318 non-null  object \n",
      "dtypes: float64(1), int64(4), object(3)\n",
      "memory usage: 1.9+ MB\n"
     ]
    }
   ],
   "source": [
    "df.info()"
   ]
  },
  {
   "cell_type": "markdown",
   "id": "23f9a2a4",
   "metadata": {},
   "source": [
    "Penjelasan :\n",
    "\n",
    "Dataset memiliki 3 Tipe data, yaitu:\n",
    "- `int64`: kolom NIM, ANGKATAN, SEMESTER, SKS\n",
    "- `float64`: kolom NILAI\n",
    "- `object`: kolom KODE_MK, NAMA_MK, GRADE\n",
    "\n",
    "---"
   ]
  },
  {
   "cell_type": "markdown",
   "id": "b77c8879",
   "metadata": {},
   "source": [
    "### **1. Question 1: SUB-CLO012-2, Weight (25%)**\n",
    " \n",
    "### Complete the missing values in the Grade column, using the following information:\n"
   ]
  },
  {
   "cell_type": "markdown",
   "id": "8a75b069",
   "metadata": {},
   "source": [
    "#### Mengecek Missing Value"
   ]
  },
  {
   "cell_type": "code",
   "execution_count": 6,
   "id": "ec6d72f6",
   "metadata": {},
   "outputs": [
    {
     "data": {
      "text/plain": [
       "NIM           0\n",
       "ANGKATAN      0\n",
       "SEMESTER      0\n",
       "KODE_MK       0\n",
       "NAMA_MK      23\n",
       "SKS           0\n",
       "NILAI        12\n",
       "GRADE       552\n",
       "dtype: int64"
      ]
     },
     "execution_count": 6,
     "metadata": {},
     "output_type": "execute_result"
    }
   ],
   "source": [
    "df.isnull().sum()"
   ]
  },
  {
   "cell_type": "markdown",
   "id": "ce9727df",
   "metadata": {},
   "source": [
    "#### Visualisasi Posisi Missing Value"
   ]
  },
  {
   "cell_type": "code",
   "execution_count": 7,
   "id": "ea056bcb",
   "metadata": {},
   "outputs": [
    {
     "data": {
      "image/png": "[encoded data removed]",
      "text/plain": [
       "<Figure size 1200x600 with 1 Axes>"
      ]
     },
     "metadata": {},
     "output_type": "display_data"
    }
   ],
   "source": [
    "import seaborn as sns\n",
    "import matplotlib.pyplot as plt\n",
    "\n",
    "plt.figure(figsize=(12,6))\n",
    "sns.heatmap(\n",
    " df.isnull(),\n",
    " cbar=False,\n",
    " cmap=\"viridis\"\n",
    ")\n",
    "\n",
    "plt.title(\"Heatmap Missing Values\", fontsize=14, fontweight=\"bold\")\n",
    "plt.show()"
   ]
  },
  {
   "cell_type": "markdown",
   "id": "6e8673c1",
   "metadata": {},
   "source": [
    "Penjelasan :\n",
    "\n",
    "- Dari output diatas membuktikan **adanya missing value** pada beberapa kolom/fitur, yaitu kolom `NAMA_MK, NILAI, dan GRADE`.\n",
    "- Garis Kuning pada visualisasi = Menandakan adanya missing value pada kolom/fitur tersebut.\n",
    "- Oleh karena itu akan dilakukan penanganan untuk masalah missing value ini. \n",
    "- Sesuai perintah soal, kita akan melengkapi nilai yang hilang (Missing Values) di kolom GRADE berdasarkan NILAI (Score)\n",
    "\n",
    "---"
   ]
  },
  {
   "cell_type": "markdown",
   "id": "1cf9ab1c",
   "metadata": {},
   "source": [
    "#### Penanganan Missing Value Kolom GRADE"
   ]
  },
  {
   "attachments": {
    "image.png": {
     "image/png": "[encoded data removed]"
    }
   },
   "cell_type": "markdown",
   "id": "2c57e4d4",
   "metadata": {},
   "source": [
    "1. Proses dimulai dengan membuat fungsi pemetaan nilai ke grade sesuai perintah soal.\n",
    "\n",
    "![image.png](attachment:image.png)"
   ]
  },
  {
   "cell_type": "code",
   "execution_count": 8,
   "id": "55da45b5",
   "metadata": {},
   "outputs": [],
   "source": [
    "def score_to_grade(score):\n",
    "    if pd.isnull(score): \n",
    "        return None\n",
    "    elif score >= 85: return 'A'\n",
    "    elif score >= 80: return 'A-'\n",
    "    elif score >= 75: return 'B+'\n",
    "    elif score >= 70: return 'B'\n",
    "    elif score >= 65: return 'B-'\n",
    "    elif score >= 60: return 'C+'\n",
    "    elif score >= 55: return 'C'\n",
    "    elif score >= 45: return 'D'\n",
    "    else: return 'E'"
   ]
  },
  {
   "cell_type": "markdown",
   "id": "4e954ac7",
   "metadata": {},
   "source": [
    "2. Mengisi nilai GRADE kosong"
   ]
  },
  {
   "cell_type": "code",
   "execution_count": 9,
   "id": "a433d766",
   "metadata": {},
   "outputs": [],
   "source": [
    "df['GRADE'] = df.apply(\n",
    "    lambda row: row['GRADE'] if pd.notnull(row['GRADE']) else score_to_grade(row['NILAI']), \n",
    "    axis=1\n",
    ")"
   ]
  },
  {
   "cell_type": "markdown",
   "id": "6f9a9774",
   "metadata": {},
   "source": [
    "3. Mengecek Hasil Setelah Mengisi GRADE yang kosong"
   ]
  },
  {
   "cell_type": "code",
   "execution_count": 10,
   "id": "0587087f",
   "metadata": {},
   "outputs": [
    {
     "data": {
      "image/png": "[encoded data removed]",
      "text/plain": [
       "<Figure size 1200x600 with 1 Axes>"
      ]
     },
     "metadata": {},
     "output_type": "display_data"
    },
    {
     "data": {
      "text/plain": [
       "NIM          0\n",
       "ANGKATAN     0\n",
       "SEMESTER     0\n",
       "KODE_MK      0\n",
       "NAMA_MK     23\n",
       "SKS          0\n",
       "NILAI       12\n",
       "GRADE        0\n",
       "dtype: int64"
      ]
     },
     "execution_count": 10,
     "metadata": {},
     "output_type": "execute_result"
    }
   ],
   "source": [
    "plt.figure(figsize=(12,6))\n",
    "sns.heatmap(\n",
    " df.isnull(),\n",
    " cbar=False,\n",
    " cmap=\"viridis\"\n",
    ")\n",
    "\n",
    "plt.title(\"Heatmap Missing Values\", fontsize=14, fontweight=\"bold\")\n",
    "plt.show()\n",
    "\n",
    "df.isnull().sum()"
   ]
  },
  {
   "cell_type": "markdown",
   "id": "1b86e0fe",
   "metadata": {},
   "source": [
    "Penjelasan :\n",
    "\n",
    "- Dari hasil visualisasi dan output pengecekkan missing value, dapat disimpulkan penanganan missing value untuk kolom/fitur `'GRADE'` berhasil ditangani, karena telah menunjukkan angka 0 dan dari visualisasi heatmap tidak ada garis kuning pada kolom GRADE. \n",
    "- Missing value pada kolom GRADE berhasil diisi berdasarkan Pemetaan Nilai\n",
    "- Garis Kuning Pada Visualisasi Heatmap = Menandakan adanya missing value pada kolom/fitur tersebut.\n",
    "\n",
    "---"
   ]
  },
  {
   "cell_type": "markdown",
   "id": "2f119a95",
   "metadata": {},
   "source": [
    "### **2. Question 2: SUB-CLO012-3, Weight (25%)**\n",
    " \n",
    "### From the data, find the average score of each course, then display the highest mean of the grades and the lowest mean of the score! (Hint: Do grouping by course).\n"
   ]
  },
  {
   "cell_type": "markdown",
   "id": "a00116c1",
   "metadata": {},
   "source": [
    "#### - Menghitung rata-rata NILAI per mata kuliah (COURSE)"
   ]
  },
  {
   "cell_type": "code",
   "execution_count": 11,
   "id": "eb03d91e",
   "metadata": {},
   "outputs": [
    {
     "data": {
      "text/html": [
       "<div>\n",
       "<style scoped>\n",
       "    .dataframe tbody tr th:only-of-type {\n",
       "        vertical-align: middle;\n",
       "    }\n",
       "\n",
       "    .dataframe tbody tr th {\n",
       "        vertical-align: top;\n",
       "    }\n",
       "\n",
       "    .dataframe thead th {\n",
       "        text-align: right;\n",
       "    }\n",
       "</style>\n",
       "<table border=\"1\" class=\"dataframe\">\n",
       "  <thead>\n",
       "    <tr style=\"text-align: right;\">\n",
       "      <th></th>\n",
       "      <th>NAMA_MK</th>\n",
       "      <th>NILAI</th>\n",
       "    </tr>\n",
       "  </thead>\n",
       "  <tbody>\n",
       "    <tr>\n",
       "      <th>0</th>\n",
       "      <td>Administrasi Database 1</td>\n",
       "      <td>88.631579</td>\n",
       "    </tr>\n",
       "    <tr>\n",
       "      <th>1</th>\n",
       "      <td>Administrasi Database 2</td>\n",
       "      <td>90.775281</td>\n",
       "    </tr>\n",
       "    <tr>\n",
       "      <th>2</th>\n",
       "      <td>Agama</td>\n",
       "      <td>75.199181</td>\n",
       "    </tr>\n",
       "    <tr>\n",
       "      <th>3</th>\n",
       "      <td>Algoritma dan Pemrograman</td>\n",
       "      <td>64.125468</td>\n",
       "    </tr>\n",
       "    <tr>\n",
       "      <th>4</th>\n",
       "      <td>Algoritma dan Struktur Data</td>\n",
       "      <td>45.817259</td>\n",
       "    </tr>\n",
       "  </tbody>\n",
       "</table>\n",
       "</div>"
      ],
      "text/plain": [
       "                       NAMA_MK      NILAI\n",
       "0      Administrasi Database 1  88.631579\n",
       "1      Administrasi Database 2  90.775281\n",
       "2                        Agama  75.199181\n",
       "3    Algoritma dan Pemrograman  64.125468\n",
       "4  Algoritma dan Struktur Data  45.817259"
      ]
     },
     "execution_count": 11,
     "metadata": {},
     "output_type": "execute_result"
    }
   ],
   "source": [
    "avg_score_per_course = df.groupby('NAMA_MK')['NILAI'].mean().reset_index()\n",
    "avg_score_per_course.head()"
   ]
  },
  {
   "cell_type": "markdown",
   "id": "ff2ff803",
   "metadata": {},
   "source": [
    "Penjelasan :\n",
    "\n",
    "Membuat grouping data per matkul menggunakan `.groupby` berdasarkan kolom NAMA_MK. Kemudian mengambil rata-rata NILAI per mata kuliah menggunakan `.mean()`.\n",
    "\n",
    "---"
   ]
  },
  {
   "cell_type": "markdown",
   "id": "ecdb08b3",
   "metadata": {},
   "source": [
    "#### - Mencari mata kuliah dengan nilai rata-rata tertinggi dan terendah"
   ]
  },
  {
   "cell_type": "code",
   "execution_count": 12,
   "id": "ce9abbcf",
   "metadata": {},
   "outputs": [],
   "source": [
    "highest = avg_score_per_course.loc[avg_score_per_course['NILAI'].idxmax()]\n",
    "lowest = avg_score_per_course.loc[avg_score_per_course['NILAI'].idxmin()]"
   ]
  },
  {
   "cell_type": "code",
   "execution_count": 13,
   "id": "21926c70",
   "metadata": {},
   "outputs": [
    {
     "name": "stdout",
     "output_type": "stream",
     "text": [
      "Mata kuliah dengan nilai rata-rata tertinggi:\n",
      "SK632 Jaringan Komputer Terapan 2 - 98.00\n",
      "\n",
      "Mata kuliah dengan nilai rata-rata terendah:\n",
      "Algoritma dan Struktur Data - 45.82\n"
     ]
    }
   ],
   "source": [
    "print(f\"Mata kuliah dengan nilai rata-rata tertinggi:\")\n",
    "print(f\"{highest['NAMA_MK']} - {highest['NILAI']:.2f}\")\n",
    "\n",
    "print(\"\\nMata kuliah dengan nilai rata-rata terendah:\")\n",
    "print(f\"{lowest['NAMA_MK']} - {lowest['NILAI']:.2f}\")\n"
   ]
  },
  {
   "cell_type": "markdown",
   "id": "c851322a",
   "metadata": {},
   "source": [
    "Penjelasan :\n",
    "\n",
    "Proses mencari mata kuliah dengan nilai rata-rata tertinggi dan terendah :\n",
    "\n",
    "- Menggunakan `.idxmax()` untuk mencari index di mana kolom 'NILAI' nya memiliki nilai tertinggi. Kemudian `.loc[...]` digunakan untuk mengambil seluruh baris tersebut dari DataFrame. Kemudian hasilnya disimpan ke variabel `highest` untuk ditampilkan.\n",
    "\n",
    "- Begitupula dengan `.idxmin()` untuk mencari index di mana kolom 'NILAI' nya memiliki nilai terendah. Kemudian `.loc[...]` digunakan untuk mengambil seluruh baris tersebut dari DataFrame. Kemudian hasilnya disimpan ke variabel `lowest` untuk ditampilkan.\n",
    "\n",
    "---"
   ]
  },
  {
   "cell_type": "markdown",
   "id": "14912c9a",
   "metadata": {},
   "source": [
    "#### - Visualisasi Top 10 Mata Kuliah dengan nilai rata-rata tertinggi `(Tambahan)`"
   ]
  },
  {
   "cell_type": "markdown",
   "id": "e5889d60",
   "metadata": {},
   "source": [
    "1. Import Library Visualisasi"
   ]
  },
  {
   "cell_type": "code",
   "execution_count": 14,
   "id": "43814f7a",
   "metadata": {},
   "outputs": [],
   "source": [
    "import seaborn as sns\n",
    "import matplotlib.pyplot as plt"
   ]
  },
  {
   "cell_type": "markdown",
   "id": "d961ad7b",
   "metadata": {},
   "source": [
    "2. Mengurutkan data rata-rata nilai tiap mata kuliah, kemudian memilih 10 tertinggi"
   ]
  },
  {
   "cell_type": "code",
   "execution_count": 15,
   "id": "d2e39516",
   "metadata": {},
   "outputs": [],
   "source": [
    "avg_score_per_course_sorted = avg_score_per_course.sort_values(by='NILAI', ascending=False)\n",
    "top10 = avg_score_per_course_sorted.head(10)"
   ]
  },
  {
   "cell_type": "markdown",
   "id": "decfa8e0",
   "metadata": {},
   "source": [
    "3. Membuat dan Menampilkan Grafik Batang"
   ]
  },
  {
   "cell_type": "code",
   "execution_count": 16,
   "id": "9b79261a",
   "metadata": {},
   "outputs": [
    {
     "data": {
      "image/png": "[encoded data removed]",
      "text/plain": [
       "<Figure size 1000x600 with 1 Axes>"
      ]
     },
     "metadata": {},
     "output_type": "display_data"
    }
   ],
   "source": [
    "plt.figure(figsize=(10,6))\n",
    "sns.barplot(\n",
    "    data=top10, \n",
    "    y='NAMA_MK', \n",
    "    x='NILAI', \n",
    "    hue='NAMA_MK',\n",
    "    dodge=False,\n",
    "    palette='Blues_r', \n",
    ")\n",
    "plt.title('Top 10 Mata Kuliah dengan Rata-rata Nilai Tertinggi', fontsize=13)\n",
    "plt.xlabel('Rata-rata Nilai')\n",
    "plt.ylabel('Nama Mata Kuliah')\n",
    "plt.show()"
   ]
  },
  {
   "cell_type": "markdown",
   "id": "2f996dff",
   "metadata": {},
   "source": [
    "4. Menampilkan Tabel Rata-rata Dalam Bentuk Teks Untuk Memperjelas Hasil"
   ]
  },
  {
   "cell_type": "code",
   "execution_count": 17,
   "id": "080b340b",
   "metadata": {},
   "outputs": [
    {
     "data": {
      "text/html": [
       "<div>\n",
       "<style scoped>\n",
       "    .dataframe tbody tr th:only-of-type {\n",
       "        vertical-align: middle;\n",
       "    }\n",
       "\n",
       "    .dataframe tbody tr th {\n",
       "        vertical-align: top;\n",
       "    }\n",
       "\n",
       "    .dataframe thead th {\n",
       "        text-align: right;\n",
       "    }\n",
       "</style>\n",
       "<table border=\"1\" class=\"dataframe\">\n",
       "  <thead>\n",
       "    <tr style=\"text-align: right;\">\n",
       "      <th></th>\n",
       "      <th>NAMA_MK</th>\n",
       "      <th>NILAI</th>\n",
       "    </tr>\n",
       "  </thead>\n",
       "  <tbody>\n",
       "    <tr>\n",
       "      <th>133</th>\n",
       "      <td>SK632 Jaringan Komputer Terapan 2</td>\n",
       "      <td>98.00</td>\n",
       "    </tr>\n",
       "    <tr>\n",
       "      <th>134</th>\n",
       "      <td>SK733 Jaringan Komputer Terapan 3</td>\n",
       "      <td>93.00</td>\n",
       "    </tr>\n",
       "    <tr>\n",
       "      <th>120</th>\n",
       "      <td>SI661 Proyek Sistem Informasi</td>\n",
       "      <td>92.47</td>\n",
       "    </tr>\n",
       "    <tr>\n",
       "      <th>125</th>\n",
       "      <td>SI744 Administrasi Database 2</td>\n",
       "      <td>92.00</td>\n",
       "    </tr>\n",
       "    <tr>\n",
       "      <th>157</th>\n",
       "      <td>TI751 Seminar ICT</td>\n",
       "      <td>92.00</td>\n",
       "    </tr>\n",
       "    <tr>\n",
       "      <th>121</th>\n",
       "      <td>SI664 Metode Riset SI</td>\n",
       "      <td>91.87</td>\n",
       "    </tr>\n",
       "    <tr>\n",
       "      <th>1</th>\n",
       "      <td>Administrasi Database 2</td>\n",
       "      <td>90.78</td>\n",
       "    </tr>\n",
       "    <tr>\n",
       "      <th>128</th>\n",
       "      <td>SI860 Magang Kerja</td>\n",
       "      <td>90.62</td>\n",
       "    </tr>\n",
       "    <tr>\n",
       "      <th>135</th>\n",
       "      <td>Seminar ICT</td>\n",
       "      <td>90.55</td>\n",
       "    </tr>\n",
       "    <tr>\n",
       "      <th>73</th>\n",
       "      <td>Pemrograman &amp; Pengembangan Game 1</td>\n",
       "      <td>90.50</td>\n",
       "    </tr>\n",
       "  </tbody>\n",
       "</table>\n",
       "</div>"
      ],
      "text/plain": [
       "                               NAMA_MK  NILAI\n",
       "133  SK632 Jaringan Komputer Terapan 2  98.00\n",
       "134  SK733 Jaringan Komputer Terapan 3  93.00\n",
       "120      SI661 Proyek Sistem Informasi  92.47\n",
       "125      SI744 Administrasi Database 2  92.00\n",
       "157                  TI751 Seminar ICT  92.00\n",
       "121              SI664 Metode Riset SI  91.87\n",
       "1              Administrasi Database 2  90.78\n",
       "128                 SI860 Magang Kerja  90.62\n",
       "135                        Seminar ICT  90.55\n",
       "73   Pemrograman & Pengembangan Game 1  90.50"
      ]
     },
     "execution_count": 17,
     "metadata": {},
     "output_type": "execute_result"
    }
   ],
   "source": [
    "avg_score_per_course_sorted.head(10).round(2)"
   ]
  },
  {
   "cell_type": "markdown",
   "id": "c7b78b9a",
   "metadata": {},
   "source": [
    "### **3. Question 3: SUB-CLO012-4, Weight (50%)**\n",
    " \n",
    "### Build a machine learning to classify students pass/fail based on Grade, by following these steps: \n",
    "a. Use a dataset that does not have missing values in problem 1. \n",
    "\n",
    "b. Group data based on NIM. \n",
    "\n",
    "c. Create a new column named \"Label\" containing the pass/fail classification. The passing criteria are as follows: `Total Credits 144, No Grades D, E, and F`\n",
    "\n",
    "d. Divide training and testing data with a portion of 70: 30. \n",
    "\n",
    "e. Use a classification algorithm (free to use one). \n",
    "\n",
    "f. Perform model evaluation\n",
    "\n",
    "---"
   ]
  },
  {
   "cell_type": "markdown",
   "id": "cac57714",
   "metadata": {},
   "source": [
    "#### 3a. Use a dataset that does not have missing values in problem 1. "
   ]
  },
  {
   "cell_type": "markdown",
   "id": "77c12fd4",
   "metadata": {},
   "source": [
    "1. Pengecekkan Missing Value Setelah Penanganan Masalah di Nomor 1"
   ]
  },
  {
   "cell_type": "code",
   "execution_count": 18,
   "id": "6dd98862",
   "metadata": {},
   "outputs": [
    {
     "data": {
      "text/plain": [
       "NIM          0\n",
       "ANGKATAN     0\n",
       "SEMESTER     0\n",
       "KODE_MK      0\n",
       "NAMA_MK     23\n",
       "SKS          0\n",
       "NILAI       12\n",
       "GRADE        0\n",
       "dtype: int64"
      ]
     },
     "execution_count": 18,
     "metadata": {},
     "output_type": "execute_result"
    }
   ],
   "source": [
    "df.isnull().sum()"
   ]
  },
  {
   "cell_type": "markdown",
   "id": "137eba76",
   "metadata": {},
   "source": [
    "Penjelasan :\n",
    "\n",
    "- Dari output diatas menandakan adanya missing value pada beberapa kolom yaitu `NAMA_MK` dan `NILAI`.\n",
    "- Karena problem 1 hanya menangani missing value kolom `GRADE`, maka sekarang melakukan penanganan missing value pada kolom `NILAI`. \n",
    "- Penanganan pada kolom NILAI sangat diperlukan karena kolom tersebut akan digunakan pada pemodelan nantinya, sedangkan kolom NAMA_MK kurang berpengaruh sehingga tidak perlu dilakukan penanganan.\n",
    "\n",
    "---"
   ]
  },
  {
   "cell_type": "markdown",
   "id": "3e1e7dec",
   "metadata": {},
   "source": [
    "2. Hapus baris dengan kolom `NILAI` yang kosong"
   ]
  },
  {
   "cell_type": "code",
   "execution_count": 19,
   "id": "2952d6c5",
   "metadata": {},
   "outputs": [],
   "source": [
    "df_clean = df.dropna(subset=['NILAI']).reset_index(drop=True)"
   ]
  },
  {
   "cell_type": "markdown",
   "id": "12a8aa08",
   "metadata": {},
   "source": [
    "Penjelasan : \n",
    "\n",
    "- Buat variabel baru `df_clean` untuk memastikan benar-benar menggunakan data yang sudah bersih.\n",
    "- Dalam df_clean, dilakukan penghapusan baris yang memiliki missing value pada kolom NILAI.\n",
    "\n",
    "---"
   ]
  },
  {
   "cell_type": "code",
   "execution_count": 20,
   "id": "3ff03bbe",
   "metadata": {},
   "outputs": [
    {
     "data": {
      "text/plain": [
       "(30858, 8)"
      ]
     },
     "execution_count": 20,
     "metadata": {},
     "output_type": "execute_result"
    }
   ],
   "source": [
    "df_clean.shape"
   ]
  },
  {
   "cell_type": "code",
   "execution_count": 21,
   "id": "821c4ca4",
   "metadata": {},
   "outputs": [
    {
     "data": {
      "text/plain": [
       "NIM          0\n",
       "ANGKATAN     0\n",
       "SEMESTER     0\n",
       "KODE_MK      0\n",
       "NAMA_MK     23\n",
       "SKS          0\n",
       "NILAI        0\n",
       "GRADE        0\n",
       "dtype: int64"
      ]
     },
     "execution_count": 21,
     "metadata": {},
     "output_type": "execute_result"
    }
   ],
   "source": [
    "df_clean.isnull().sum()"
   ]
  },
  {
   "cell_type": "markdown",
   "id": "1f8ff04b",
   "metadata": {},
   "source": [
    "Penjelasan :\n",
    "\n",
    "- Dari output diatas, dapat menunjukkan kolom `NILAI` sudah bersih dari missing value sehingga siap untuk tahapan berikutnya.\n",
    "\n",
    "---"
   ]
  },
  {
   "cell_type": "markdown",
   "id": "89212f8f",
   "metadata": {},
   "source": [
    "#### 3b. Group data based on NIM."
   ]
  },
  {
   "cell_type": "markdown",
   "id": "9e75f24b",
   "metadata": {},
   "source": [
    "1. Menampilkan Dataframe bersih menggunakan `df_clean`"
   ]
  },
  {
   "cell_type": "code",
   "execution_count": 22,
   "id": "34a5ff93",
   "metadata": {},
   "outputs": [
    {
     "data": {
      "text/html": [
       "<div>\n",
       "<style scoped>\n",
       "    .dataframe tbody tr th:only-of-type {\n",
       "        vertical-align: middle;\n",
       "    }\n",
       "\n",
       "    .dataframe tbody tr th {\n",
       "        vertical-align: top;\n",
       "    }\n",
       "\n",
       "    .dataframe thead th {\n",
       "        text-align: right;\n",
       "    }\n",
       "</style>\n",
       "<table border=\"1\" class=\"dataframe\">\n",
       "  <thead>\n",
       "    <tr style=\"text-align: right;\">\n",
       "      <th></th>\n",
       "      <th>NIM</th>\n",
       "      <th>ANGKATAN</th>\n",
       "      <th>SEMESTER</th>\n",
       "      <th>KODE_MK</th>\n",
       "      <th>NAMA_MK</th>\n",
       "      <th>SKS</th>\n",
       "      <th>NILAI</th>\n",
       "      <th>GRADE</th>\n",
       "    </tr>\n",
       "  </thead>\n",
       "  <tbody>\n",
       "    <tr>\n",
       "      <th>0</th>\n",
       "      <td>10110310002</td>\n",
       "      <td>2010</td>\n",
       "      <td>1011</td>\n",
       "      <td>EM100</td>\n",
       "      <td>EM100 Dasar-dasar Bisnis</td>\n",
       "      <td>3</td>\n",
       "      <td>57.0</td>\n",
       "      <td>C</td>\n",
       "    </tr>\n",
       "    <tr>\n",
       "      <th>1</th>\n",
       "      <td>10110310002</td>\n",
       "      <td>2010</td>\n",
       "      <td>1011</td>\n",
       "      <td>EM180</td>\n",
       "      <td>EM180 Matematika Bisnis</td>\n",
       "      <td>3</td>\n",
       "      <td>70.0</td>\n",
       "      <td>B</td>\n",
       "    </tr>\n",
       "    <tr>\n",
       "      <th>2</th>\n",
       "      <td>10110310002</td>\n",
       "      <td>2010</td>\n",
       "      <td>1011</td>\n",
       "      <td>TI100</td>\n",
       "      <td>TI100 Algoritma dan Pemrograman</td>\n",
       "      <td>4</td>\n",
       "      <td>57.0</td>\n",
       "      <td>C</td>\n",
       "    </tr>\n",
       "    <tr>\n",
       "      <th>3</th>\n",
       "      <td>10110310002</td>\n",
       "      <td>2010</td>\n",
       "      <td>1011</td>\n",
       "      <td>TI101</td>\n",
       "      <td>TI101 Matematika Diskrit</td>\n",
       "      <td>3</td>\n",
       "      <td>59.0</td>\n",
       "      <td>C</td>\n",
       "    </tr>\n",
       "    <tr>\n",
       "      <th>4</th>\n",
       "      <td>10110310002</td>\n",
       "      <td>2010</td>\n",
       "      <td>1011</td>\n",
       "      <td>TI110</td>\n",
       "      <td>TI110 Pengantar Teknologi Multimedia</td>\n",
       "      <td>3</td>\n",
       "      <td>74.0</td>\n",
       "      <td>B</td>\n",
       "    </tr>\n",
       "  </tbody>\n",
       "</table>\n",
       "</div>"
      ],
      "text/plain": [
       "           NIM  ANGKATAN  SEMESTER KODE_MK  \\\n",
       "0  10110310002      2010      1011   EM100   \n",
       "1  10110310002      2010      1011   EM180   \n",
       "2  10110310002      2010      1011   TI100   \n",
       "3  10110310002      2010      1011   TI101   \n",
       "4  10110310002      2010      1011   TI110   \n",
       "\n",
       "                                NAMA_MK  SKS  NILAI GRADE  \n",
       "0              EM100 Dasar-dasar Bisnis    3   57.0     C  \n",
       "1               EM180 Matematika Bisnis    3   70.0     B  \n",
       "2       TI100 Algoritma dan Pemrograman    4   57.0     C  \n",
       "3              TI101 Matematika Diskrit    3   59.0     C  \n",
       "4  TI110 Pengantar Teknologi Multimedia    3   74.0     B  "
      ]
     },
     "execution_count": 22,
     "metadata": {},
     "output_type": "execute_result"
    }
   ],
   "source": [
    "df_clean.head()"
   ]
  },
  {
   "cell_type": "markdown",
   "id": "e7b2f1be",
   "metadata": {},
   "source": [
    "2. Grouping berdasarkan `NIM`. "
   ]
  },
  {
   "cell_type": "code",
   "execution_count": 23,
   "id": "838fe4a7",
   "metadata": {},
   "outputs": [],
   "source": [
    "df_grouped = df_clean.groupby('NIM').agg({'SKS': 'sum', 'GRADE': list}).reset_index()"
   ]
  },
  {
   "cell_type": "markdown",
   "id": "07467d76",
   "metadata": {},
   "source": [
    "3. Menampilkan Dataframe Setelah Grouping Berdasarkan NIM"
   ]
  },
  {
   "cell_type": "code",
   "execution_count": 24,
   "id": "b540b85e",
   "metadata": {},
   "outputs": [
    {
     "data": {
      "text/html": [
       "<div>\n",
       "<style scoped>\n",
       "    .dataframe tbody tr th:only-of-type {\n",
       "        vertical-align: middle;\n",
       "    }\n",
       "\n",
       "    .dataframe tbody tr th {\n",
       "        vertical-align: top;\n",
       "    }\n",
       "\n",
       "    .dataframe thead th {\n",
       "        text-align: right;\n",
       "    }\n",
       "</style>\n",
       "<table border=\"1\" class=\"dataframe\">\n",
       "  <thead>\n",
       "    <tr style=\"text-align: right;\">\n",
       "      <th></th>\n",
       "      <th>NIM</th>\n",
       "      <th>SKS</th>\n",
       "      <th>GRADE</th>\n",
       "    </tr>\n",
       "  </thead>\n",
       "  <tbody>\n",
       "    <tr>\n",
       "      <th>0</th>\n",
       "      <td>8429</td>\n",
       "      <td>145</td>\n",
       "      <td>[B-, C, B+, B-, A, A, B+, B, A, A-, C, A, A-, ...</td>\n",
       "    </tr>\n",
       "    <tr>\n",
       "      <th>1</th>\n",
       "      <td>8455</td>\n",
       "      <td>136</td>\n",
       "      <td>[C+, A, A-, D, A-, C, A, B+, C, B, B-, B+, B, ...</td>\n",
       "    </tr>\n",
       "    <tr>\n",
       "      <th>2</th>\n",
       "      <td>8481</td>\n",
       "      <td>127</td>\n",
       "      <td>[C, C+, B-, D, B-, C+, A, B, B+, B-, B+, C, C,...</td>\n",
       "    </tr>\n",
       "    <tr>\n",
       "      <th>3</th>\n",
       "      <td>8631</td>\n",
       "      <td>145</td>\n",
       "      <td>[A-, B+, A, C, A, A, B-, A-, A, B+, A-, B-, A,...</td>\n",
       "    </tr>\n",
       "    <tr>\n",
       "      <th>4</th>\n",
       "      <td>8684</td>\n",
       "      <td>145</td>\n",
       "      <td>[A-, B-, A, B, A-, A-, B+, A-, A, B, A, B-, A,...</td>\n",
       "    </tr>\n",
       "  </tbody>\n",
       "</table>\n",
       "</div>"
      ],
      "text/plain": [
       "    NIM  SKS                                              GRADE\n",
       "0  8429  145  [B-, C, B+, B-, A, A, B+, B, A, A-, C, A, A-, ...\n",
       "1  8455  136  [C+, A, A-, D, A-, C, A, B+, C, B, B-, B+, B, ...\n",
       "2  8481  127  [C, C+, B-, D, B-, C+, A, B, B+, B-, B+, C, C,...\n",
       "3  8631  145  [A-, B+, A, C, A, A, B-, A-, A, B+, A-, B-, A,...\n",
       "4  8684  145  [A-, B-, A, B, A-, A-, B+, A-, A, B, A, B-, A,..."
      ]
     },
     "execution_count": 24,
     "metadata": {},
     "output_type": "execute_result"
    }
   ],
   "source": [
    "df_grouped.head()"
   ]
  },
  {
   "cell_type": "markdown",
   "id": "b356a575",
   "metadata": {},
   "source": [
    "#### 3c. Create a new column named \"LABEL\" containing the pass/fail classification. The passing criteria are as follows: \n",
    "\n",
    "- Total Credits 144 (>= 144 SKS)\n",
    "- No Grades D, E, and F"
   ]
  },
  {
   "cell_type": "code",
   "execution_count": 25,
   "id": "118881ad",
   "metadata": {},
   "outputs": [],
   "source": [
    "def determine_label(row):\n",
    "    if row['SKS'] >= 144 and all(g not in ['D', 'E', 'F'] for g in row['GRADE']):\n",
    "        return 'Pass'\n",
    "    else:\n",
    "        return 'Fail'"
   ]
  },
  {
   "cell_type": "markdown",
   "id": "99d4e105",
   "metadata": {},
   "source": [
    "2. Membuat kolom baru `LABEL`"
   ]
  },
  {
   "cell_type": "code",
   "execution_count": 26,
   "id": "1e9fef5c",
   "metadata": {},
   "outputs": [],
   "source": [
    "df_grouped['LABEL'] = df_grouped.apply(determine_label, axis=1)"
   ]
  },
  {
   "cell_type": "markdown",
   "id": "74c857d0",
   "metadata": {},
   "source": [
    "3. Menampilkan Distribusi Data LABEL (Klasifikasi Pass vs Fail)"
   ]
  },
  {
   "cell_type": "code",
   "execution_count": 27,
   "id": "7adf41c9",
   "metadata": {},
   "outputs": [
    {
     "data": {
      "image/png": "[encoded data removed]",
      "text/plain": [
       "<Figure size 640x480 with 1 Axes>"
      ]
     },
     "metadata": {},
     "output_type": "display_data"
    },
    {
     "data": {
      "text/plain": [
       "LABEL\n",
       "Fail    589\n",
       "Pass    181\n",
       "Name: count, dtype: int64"
      ]
     },
     "execution_count": 27,
     "metadata": {},
     "output_type": "execute_result"
    }
   ],
   "source": [
    "df_grouped['LABEL'].value_counts().plot(kind='bar', color=['skyblue', 'salmon'])\n",
    "plt.title('Distribusi Klasifikasi Mahasiswa (Pass vs Fail)')\n",
    "plt.xlabel('Kategori')\n",
    "plt.ylabel('Jumlah Mahasiswa')\n",
    "plt.grid(axis='y', linestyle='-', alpha=0.7)\n",
    "plt.show()\n",
    "\n",
    "df_grouped['LABEL'].value_counts()"
   ]
  },
  {
   "cell_type": "markdown",
   "id": "b79d266c",
   "metadata": {},
   "source": [
    "Penjelasan :\n",
    "\n",
    "- Dari output dapat dilihat baik dalam bentuk angka ataupun visualisasi barplot distribusi Label Klasifikasi Mahasiswa (Pass vs Fail), bahwa sebagian besar mahasiswa termasuk dalam kategori Fail, yaitu sebanyak 589 karena tidak memenuhi kriteria kelulusan. Sedangkan sisanya sebanyak 181 mahasiswa masuk dalam kategori Pass yang memenuhi kriteria.\n",
    "\n",
    "---"
   ]
  },
  {
   "cell_type": "markdown",
   "id": "c24691f0",
   "metadata": {},
   "source": [
    "4. Menampilkan Dataframe Setelah Menambahkan Kolom `Label`"
   ]
  },
  {
   "cell_type": "code",
   "execution_count": 28,
   "id": "9ff6082c",
   "metadata": {},
   "outputs": [
    {
     "data": {
      "text/html": [
       "<div>\n",
       "<style scoped>\n",
       "    .dataframe tbody tr th:only-of-type {\n",
       "        vertical-align: middle;\n",
       "    }\n",
       "\n",
       "    .dataframe tbody tr th {\n",
       "        vertical-align: top;\n",
       "    }\n",
       "\n",
       "    .dataframe thead th {\n",
       "        text-align: right;\n",
       "    }\n",
       "</style>\n",
       "<table border=\"1\" class=\"dataframe\">\n",
       "  <thead>\n",
       "    <tr style=\"text-align: right;\">\n",
       "      <th></th>\n",
       "      <th>NIM</th>\n",
       "      <th>SKS</th>\n",
       "      <th>GRADE</th>\n",
       "      <th>LABEL</th>\n",
       "    </tr>\n",
       "  </thead>\n",
       "  <tbody>\n",
       "    <tr>\n",
       "      <th>0</th>\n",
       "      <td>8429</td>\n",
       "      <td>145</td>\n",
       "      <td>[B-, C, B+, B-, A, A, B+, B, A, A-, C, A, A-, ...</td>\n",
       "      <td>Fail</td>\n",
       "    </tr>\n",
       "    <tr>\n",
       "      <th>1</th>\n",
       "      <td>8455</td>\n",
       "      <td>136</td>\n",
       "      <td>[C+, A, A-, D, A-, C, A, B+, C, B, B-, B+, B, ...</td>\n",
       "      <td>Fail</td>\n",
       "    </tr>\n",
       "    <tr>\n",
       "      <th>2</th>\n",
       "      <td>8481</td>\n",
       "      <td>127</td>\n",
       "      <td>[C, C+, B-, D, B-, C+, A, B, B+, B-, B+, C, C,...</td>\n",
       "      <td>Fail</td>\n",
       "    </tr>\n",
       "    <tr>\n",
       "      <th>3</th>\n",
       "      <td>8631</td>\n",
       "      <td>145</td>\n",
       "      <td>[A-, B+, A, C, A, A, B-, A-, A, B+, A-, B-, A,...</td>\n",
       "      <td>Pass</td>\n",
       "    </tr>\n",
       "    <tr>\n",
       "      <th>4</th>\n",
       "      <td>8684</td>\n",
       "      <td>145</td>\n",
       "      <td>[A-, B-, A, B, A-, A-, B+, A-, A, B, A, B-, A,...</td>\n",
       "      <td>Pass</td>\n",
       "    </tr>\n",
       "  </tbody>\n",
       "</table>\n",
       "</div>"
      ],
      "text/plain": [
       "    NIM  SKS                                              GRADE LABEL\n",
       "0  8429  145  [B-, C, B+, B-, A, A, B+, B, A, A-, C, A, A-, ...  Fail\n",
       "1  8455  136  [C+, A, A-, D, A-, C, A, B+, C, B, B-, B+, B, ...  Fail\n",
       "2  8481  127  [C, C+, B-, D, B-, C+, A, B, B+, B-, B+, C, C,...  Fail\n",
       "3  8631  145  [A-, B+, A, C, A, A, B-, A-, A, B+, A-, B-, A,...  Pass\n",
       "4  8684  145  [A-, B-, A, B, A-, A-, B+, A-, A, B, A, B-, A,...  Pass"
      ]
     },
     "execution_count": 28,
     "metadata": {},
     "output_type": "execute_result"
    }
   ],
   "source": [
    "df_grouped.head()"
   ]
  },
  {
   "cell_type": "markdown",
   "id": "f62d3996",
   "metadata": {},
   "source": [
    "Penjelasan :\n",
    "\n",
    "- Output diatas dapat dilihat bahwa kolom `LABEL` berhasil dibuat berdasarkan kriteria kelulusan dan telah dimasukkan kedalam dataframe `df_grouped`.\n",
    "\n",
    "---"
   ]
  },
  {
   "cell_type": "markdown",
   "id": "da85f290",
   "metadata": {},
   "source": [
    "#### - Label Encoding Kolom `LABEL` Sebagai Persiapan Pemilihan Target (y)"
   ]
  },
  {
   "cell_type": "markdown",
   "id": "0a0cedb6",
   "metadata": {},
   "source": [
    "Penjelasan :\n",
    "\n",
    "- Label encoding pada kolom `LABEL` merupakan salah satu langkah persiapan untuk pemodelan. Alasannya karena algoritma pemodelan Machine Learning hanya dapat memproses dan bekerja dengan data numerik. Sedangkan kolom LABEL merupakan teks (Fail/Pass). \n",
    "\n",
    "- Oleh karena itu, label (Fail/Pass) pada kolom `LABEL` tersebut diubah menjadi numerik, yaitu 0 dan 1.\n",
    "\n",
    "---"
   ]
  },
  {
   "cell_type": "markdown",
   "id": "bdea4e1a",
   "metadata": {},
   "source": [
    "1. Proses Encoding Kolom `LABEL` Menggunakan Library Sklearn"
   ]
  },
  {
   "cell_type": "code",
   "execution_count": 29,
   "id": "e30c9a76",
   "metadata": {},
   "outputs": [],
   "source": [
    "from sklearn.preprocessing import LabelEncoder\n",
    "\n",
    "le = LabelEncoder()\n",
    "\n",
    "df_grouped['Label_Encoded'] = le.fit_transform(df_grouped['LABEL'])\n",
    "df_grouped['LABEL'] = df_grouped['Label_Encoded']\n",
    "df_grouped = df_grouped.drop('Label_Encoded', axis=1)"
   ]
  },
  {
   "cell_type": "markdown",
   "id": "2a774a00",
   "metadata": {},
   "source": [
    "2. Menampilkan Keterangan label setelah dilakukan Encoding"
   ]
  },
  {
   "cell_type": "code",
   "execution_count": 30,
   "id": "6d6417e5",
   "metadata": {},
   "outputs": [
    {
     "name": "stdout",
     "output_type": "stream",
     "text": [
      "Keterangan isi pada Kolom 'Label' setelah encoding:\n",
      "Fail -> 0\n",
      "Pass -> 1\n"
     ]
    }
   ],
   "source": [
    "print(\"Keterangan isi pada Kolom 'Label' setelah encoding:\")\n",
    "for i, original_label in enumerate(le.classes_):\n",
    "    print(f\"{original_label} -> {i}\")"
   ]
  },
  {
   "cell_type": "markdown",
   "id": "9fdd3c8b",
   "metadata": {},
   "source": [
    "3. Memperbaharui DataFrame setelah melakukan encoding Kolom `Label`"
   ]
  },
  {
   "cell_type": "code",
   "execution_count": 31,
   "id": "fd3d915f",
   "metadata": {},
   "outputs": [
    {
     "data": {
      "text/html": [
       "<div>\n",
       "<style scoped>\n",
       "    .dataframe tbody tr th:only-of-type {\n",
       "        vertical-align: middle;\n",
       "    }\n",
       "\n",
       "    .dataframe tbody tr th {\n",
       "        vertical-align: top;\n",
       "    }\n",
       "\n",
       "    .dataframe thead th {\n",
       "        text-align: right;\n",
       "    }\n",
       "</style>\n",
       "<table border=\"1\" class=\"dataframe\">\n",
       "  <thead>\n",
       "    <tr style=\"text-align: right;\">\n",
       "      <th></th>\n",
       "      <th>NIM</th>\n",
       "      <th>SKS</th>\n",
       "      <th>GRADE</th>\n",
       "      <th>LABEL</th>\n",
       "    </tr>\n",
       "  </thead>\n",
       "  <tbody>\n",
       "    <tr>\n",
       "      <th>0</th>\n",
       "      <td>8429</td>\n",
       "      <td>145</td>\n",
       "      <td>[B-, C, B+, B-, A, A, B+, B, A, A-, C, A, A-, ...</td>\n",
       "      <td>0</td>\n",
       "    </tr>\n",
       "    <tr>\n",
       "      <th>1</th>\n",
       "      <td>8455</td>\n",
       "      <td>136</td>\n",
       "      <td>[C+, A, A-, D, A-, C, A, B+, C, B, B-, B+, B, ...</td>\n",
       "      <td>0</td>\n",
       "    </tr>\n",
       "    <tr>\n",
       "      <th>2</th>\n",
       "      <td>8481</td>\n",
       "      <td>127</td>\n",
       "      <td>[C, C+, B-, D, B-, C+, A, B, B+, B-, B+, C, C,...</td>\n",
       "      <td>0</td>\n",
       "    </tr>\n",
       "    <tr>\n",
       "      <th>3</th>\n",
       "      <td>8631</td>\n",
       "      <td>145</td>\n",
       "      <td>[A-, B+, A, C, A, A, B-, A-, A, B+, A-, B-, A,...</td>\n",
       "      <td>1</td>\n",
       "    </tr>\n",
       "    <tr>\n",
       "      <th>4</th>\n",
       "      <td>8684</td>\n",
       "      <td>145</td>\n",
       "      <td>[A-, B-, A, B, A-, A-, B+, A-, A, B, A, B-, A,...</td>\n",
       "      <td>1</td>\n",
       "    </tr>\n",
       "  </tbody>\n",
       "</table>\n",
       "</div>"
      ],
      "text/plain": [
       "    NIM  SKS                                              GRADE  LABEL\n",
       "0  8429  145  [B-, C, B+, B-, A, A, B+, B, A, A-, C, A, A-, ...      0\n",
       "1  8455  136  [C+, A, A-, D, A-, C, A, B+, C, B, B-, B+, B, ...      0\n",
       "2  8481  127  [C, C+, B-, D, B-, C+, A, B, B+, B-, B+, C, C,...      0\n",
       "3  8631  145  [A-, B+, A, C, A, A, B-, A-, A, B+, A-, B-, A,...      1\n",
       "4  8684  145  [A-, B-, A, B, A-, A-, B+, A-, A, B, A, B-, A,...      1"
      ]
     },
     "execution_count": 31,
     "metadata": {},
     "output_type": "execute_result"
    }
   ],
   "source": [
    "df_grouped.head()"
   ]
  },
  {
   "cell_type": "markdown",
   "id": "74870b94",
   "metadata": {},
   "source": [
    "Penjelasan :\n",
    "\n",
    "- Dari output diatas kita bisa lihat bahwa kolom `Label` berhasil di encoding dengan keterangan :\n",
    "\n",
    "    - Fail -> diubah menjadi = 0 \n",
    "    - Pass -> diubah menjadi = 1\n",
    "\n",
    "- Sehingga kolom `Label` sudah siap untuk pemodelan sebagai Target (y)\n",
    "\n",
    "---"
   ]
  },
  {
   "cell_type": "markdown",
   "id": "7194c7f0",
   "metadata": {},
   "source": [
    "#### 3d. Divide training and testing data with a portion of 70:30"
   ]
  },
  {
   "cell_type": "markdown",
   "id": "64e6d181",
   "metadata": {},
   "source": [
    "1. Menentukan fitur (X) dan target (y)"
   ]
  },
  {
   "cell_type": "code",
   "execution_count": 32,
   "id": "99cfb746",
   "metadata": {},
   "outputs": [],
   "source": [
    "X = df_grouped[['SKS']]\n",
    "y = df_grouped['LABEL']"
   ]
  },
  {
   "cell_type": "markdown",
   "id": "e8b0bdb3",
   "metadata": {},
   "source": [
    "2. Split data menjadi training (70%) dan testing (30%)"
   ]
  },
  {
   "cell_type": "code",
   "execution_count": 33,
   "id": "b595a415",
   "metadata": {},
   "outputs": [],
   "source": [
    "from sklearn.model_selection import train_test_split\n",
    "\n",
    "X_train, X_test, y_train, y_test = train_test_split(X, y, test_size=0.3, random_state=42, stratify=y)"
   ]
  },
  {
   "cell_type": "markdown",
   "id": "4a8e25c1",
   "metadata": {},
   "source": [
    "3. Cek hasil pembagian (Jumlah Data)"
   ]
  },
  {
   "cell_type": "code",
   "execution_count": 34,
   "id": "1ffbba77",
   "metadata": {},
   "outputs": [
    {
     "data": {
      "image/png": "[encoded data removed]",
      "text/plain": [
       "<Figure size 800x200 with 1 Axes>"
      ]
     },
     "metadata": {},
     "output_type": "display_data"
    }
   ],
   "source": [
    "train_size = len(X_train) / len(X) \n",
    "test_size = len(X_test) / len(X)\n",
    "\n",
    "fig, ax = plt.subplots(figsize=(8, 2))\n",
    "ax.broken_barh([(0, train_size), (train_size, test_size)], (0, 1), \n",
    "               facecolors=['lightblue', 'grey'], edgecolors='black')\n",
    "ax.text(train_size / 2, 0.5, 'Data Training\\n{:.0f} data'.format(len(X_train)), \n",
    "        ha='center', va='center', fontsize=12)\n",
    "ax.text(train_size + test_size / 2, 0.5, 'Data Testing\\n{:.0f} data'.format(len(X_test)), \n",
    "        ha='center', va='center', fontsize=12)\n",
    "\n",
    "ax.set_xlim(0, 1)\n",
    "ax.set_ylim(0, 1)\n",
    "ax.set_xticks([])\n",
    "ax.set_yticks([])\n",
    "ax.set_title(\"Pembagian Data Training dan Testing 70:30\", fontsize=14)\n",
    "plt.show()"
   ]
  },
  {
   "cell_type": "markdown",
   "id": "2e7be3fc",
   "metadata": {},
   "source": [
    "4. Cek hasil pembagian (Persentase Pembagian Data)"
   ]
  },
  {
   "cell_type": "code",
   "execution_count": 35,
   "id": "8fa26435",
   "metadata": {},
   "outputs": [
    {
     "name": "stdout",
     "output_type": "stream",
     "text": [
      "Persentase pembagian data:\n",
      "\n",
      "Training: 70.0%\n",
      "Testing:  30.0%\n"
     ]
    }
   ],
   "source": [
    "print(\"Persentase pembagian data:\\n\")\n",
    "print(f\"Training: {X_train.shape[0]/len(X)*100:.1f}%\")\n",
    "print(f\"Testing:  {X_test.shape[0]/len(X)*100:.1f}%\")"
   ]
  },
  {
   "cell_type": "markdown",
   "id": "df0bb29d",
   "metadata": {},
   "source": [
    "5. Cek hasil pembagian (Distribusi Data)"
   ]
  },
  {
   "cell_type": "code",
   "execution_count": 36,
   "id": "7fb6d3a2",
   "metadata": {},
   "outputs": [
    {
     "data": {
      "image/png": "[encoded data removed]",
      "text/plain": [
       "<Figure size 700x500 with 1 Axes>"
      ]
     },
     "metadata": {},
     "output_type": "display_data"
    },
    {
     "name": "stdout",
     "output_type": "stream",
     "text": [
      "Distribusi data training:\n",
      "LABEL\n",
      "0    0.764378\n",
      "1    0.235622\n",
      "Name: proportion, dtype: float64\n",
      "\n",
      "Distribusi data testing:\n",
      "LABEL\n",
      "0    0.766234\n",
      "1    0.233766\n",
      "Name: proportion, dtype: float64\n"
     ]
    }
   ],
   "source": [
    "import seaborn as sns\n",
    "import pandas as pd\n",
    "\n",
    "train_labels = y_train.value_counts().reset_index()\n",
    "train_labels.columns = ['Label', 'Jumlah']\n",
    "train_labels['Dataset'] = 'Training'\n",
    "\n",
    "test_labels = y_test.value_counts().reset_index()\n",
    "test_labels.columns = ['Label', 'Jumlah']\n",
    "test_labels['Dataset'] = 'Testing'\n",
    "\n",
    "combined = pd.concat([train_labels, test_labels])\n",
    "\n",
    "plt.figure(figsize=(7,5))\n",
    "sns.barplot(data=combined, x='Dataset', y='Jumlah', hue='Label', palette='coolwarm')\n",
    "plt.title('Distribusi Label (Pass vs Fail) pada Data Training dan Testing')\n",
    "plt.ylabel('Jumlah Mahasiswa')\n",
    "plt.xlabel('')\n",
    "plt.legend(title='Label')\n",
    "plt.grid(axis='y', linestyle='-', alpha=0.6)\n",
    "plt.show()\n",
    "\n",
    "print(\"Distribusi data training:\")\n",
    "print(y_train.value_counts(normalize=True))\n",
    "print(\"\\nDistribusi data testing:\")\n",
    "print(y_test.value_counts(normalize=True))\n"
   ]
  },
  {
   "cell_type": "markdown",
   "id": "0eaab5d0",
   "metadata": {},
   "source": [
    "**Keterangan :**\n",
    "\n",
    "- 0 -> Fail\n",
    "- 1 -> Pass\n",
    "\n"
   ]
  },
  {
   "cell_type": "markdown",
   "id": "e1a1f8af",
   "metadata": {},
   "source": [
    "Penjelasan :\n",
    "\n",
    "- Dari hasil pembagian jumlah data, persentase pembagian data, dan distribusi data\n",
    "- Dapat disimpulkan bahwa data `berhasil` dilakukan split dengan proporsi **data training (70%)** dan **data testing (30%)**.\n",
    "\n",
    "---"
   ]
  },
  {
   "cell_type": "markdown",
   "id": "4ac9a4be",
   "metadata": {},
   "source": [
    "#### 3e. Use a classification algorithm (free to use one)"
   ]
  },
  {
   "cell_type": "markdown",
   "id": "1e84b64b",
   "metadata": {},
   "source": [
    "Menggunakan Algoritma `Decision Tree Classifier`"
   ]
  },
  {
   "cell_type": "code",
   "execution_count": 37,
   "id": "5ba370fd",
   "metadata": {},
   "outputs": [
    {
     "data": {
      "text/html": [
       "<style>#sk-container-id-1 {\n",
       "  /* Definition of color scheme common for light and dark mode */\n",
       "  --sklearn-color-text: #000;\n",
       "  --sklearn-color-text-muted: #666;\n",
       "  --sklearn-color-line: gray;\n",
       "  /* Definition of color scheme for unfitted estimators */\n",
       "  --sklearn-color-unfitted-level-0: #fff5e6;\n",
       "  --sklearn-color-unfitted-level-1: #f6e4d2;\n",
       "  --sklearn-color-unfitted-level-2: #ffe0b3;\n",
       "  --sklearn-color-unfitted-level-3: chocolate;\n",
       "  /* Definition of color scheme for fitted estimators */\n",
       "  --sklearn-color-fitted-level-0: #f0f8ff;\n",
       "  --sklearn-color-fitted-level-1: #d4ebff;\n",
       "  --sklearn-color-fitted-level-2: #b3dbfd;\n",
       "  --sklearn-color-fitted-level-3: cornflowerblue;\n",
       "\n",
       "  /* Specific color for light theme */\n",
       "  --sklearn-color-text-on-default-background: var(--sg-text-color, var(--theme-code-foreground, var(--jp-content-font-color1, black)));\n",
       "  --sklearn-color-background: var(--sg-background-color, var(--theme-background, var(--jp-layout-color0, white)));\n",
       "  --sklearn-color-border-box: var(--sg-text-color, var(--theme-code-foreground, var(--jp-content-font-color1, black)));\n",
       "  --sklearn-color-icon: #696969;\n",
       "\n",
       "  @media (prefers-color-scheme: dark) {\n",
       "    /* Redefinition of color scheme for dark theme */\n",
       "    --sklearn-color-text-on-default-background: var(--sg-text-color, var(--theme-code-foreground, var(--jp-content-font-color1, white)));\n",
       "    --sklearn-color-background: var(--sg-background-color, var(--theme-background, var(--jp-layout-color0, #111)));\n",
       "    --sklearn-color-border-box: var(--sg-text-color, var(--theme-code-foreground, var(--jp-content-font-color1, white)));\n",
       "    --sklearn-color-icon: #878787;\n",
       "  }\n",
       "}\n",
       "\n",
       "#sk-container-id-1 {\n",
       "  color: var(--sklearn-color-text);\n",
       "}\n",
       "\n",
       "#sk-container-id-1 pre {\n",
       "  padding: 0;\n",
       "}\n",
       "\n",
       "#sk-container-id-1 input.sk-hidden--visually {\n",
       "  border: 0;\n",
       "  clip: rect(1px 1px 1px 1px);\n",
       "  clip: rect(1px, 1px, 1px, 1px);\n",
       "  height: 1px;\n",
       "  margin: -1px;\n",
       "  overflow: hidden;\n",
       "  padding: 0;\n",
       "  position: absolute;\n",
       "  width: 1px;\n",
       "}\n",
       "\n",
       "#sk-container-id-1 div.sk-dashed-wrapped {\n",
       "  border: 1px dashed var(--sklearn-color-line);\n",
       "  margin: 0 0.4em 0.5em 0.4em;\n",
       "  box-sizing: border-box;\n",
       "  padding-bottom: 0.4em;\n",
       "  background-color: var(--sklearn-color-background);\n",
       "}\n",
       "\n",
       "#sk-container-id-1 div.sk-container {\n",
       "  /* jupyter's `normalize.less` sets `[hidden] { display: none; }`\n",
       "     but bootstrap.min.css set `[hidden] { display: none !important; }`\n",
       "     so we also need the `!important` here to be able to override the\n",
       "     default hidden behavior on the sphinx rendered scikit-learn.org.\n",
       "     See: https://github.com/scikit-learn/scikit-learn/issues/21755 */\n",
       "  display: inline-block !important;\n",
       "  position: relative;\n",
       "}\n",
       "\n",
       "#sk-container-id-1 div.sk-text-repr-fallback {\n",
       "  display: none;\n",
       "}\n",
       "\n",
       "div.sk-parallel-item,\n",
       "div.sk-serial,\n",
       "div.sk-item {\n",
       "  /* draw centered vertical line to link estimators */\n",
       "  background-image: linear-gradient(var(--sklearn-color-text-on-default-background), var(--sklearn-color-text-on-default-background));\n",
       "  background-size: 2px 100%;\n",
       "  background-repeat: no-repeat;\n",
       "  background-position: center center;\n",
       "}\n",
       "\n",
       "/* Parallel-specific style estimator block */\n",
       "\n",
       "#sk-container-id-1 div.sk-parallel-item::after {\n",
       "  content: \"\";\n",
       "  width: 100%;\n",
       "  border-bottom: 2px solid var(--sklearn-color-text-on-default-background);\n",
       "  flex-grow: 1;\n",
       "}\n",
       "\n",
       "#sk-container-id-1 div.sk-parallel {\n",
       "  display: flex;\n",
       "  align-items: stretch;\n",
       "  justify-content: center;\n",
       "  background-color: var(--sklearn-color-background);\n",
       "  position: relative;\n",
       "}\n",
       "\n",
       "#sk-container-id-1 div.sk-parallel-item {\n",
       "  display: flex;\n",
       "  flex-direction: column;\n",
       "}\n",
       "\n",
       "#sk-container-id-1 div.sk-parallel-item:first-child::after {\n",
       "  align-self: flex-end;\n",
       "  width: 50%;\n",
       "}\n",
       "\n",
       "#sk-container-id-1 div.sk-parallel-item:last-child::after {\n",
       "  align-self: flex-start;\n",
       "  width: 50%;\n",
       "}\n",
       "\n",
       "#sk-container-id-1 div.sk-parallel-item:only-child::after {\n",
       "  width: 0;\n",
       "}\n",
       "\n",
       "/* Serial-specific style estimator block */\n",
       "\n",
       "#sk-container-id-1 div.sk-serial {\n",
       "  display: flex;\n",
       "  flex-direction: column;\n",
       "  align-items: center;\n",
       "  background-color: var(--sklearn-color-background);\n",
       "  padding-right: 1em;\n",
       "  padding-left: 1em;\n",
       "}\n",
       "\n",
       "\n",
       "/* Toggleable style: style used for estimator/Pipeline/ColumnTransformer box that is\n",
       "clickable and can be expanded/collapsed.\n",
       "- Pipeline and ColumnTransformer use this feature and define the default style\n",
       "- Estimators will overwrite some part of the style using the `sk-estimator` class\n",
       "*/\n",
       "\n",
       "/* Pipeline and ColumnTransformer style (default) */\n",
       "\n",
       "#sk-container-id-1 div.sk-toggleable {\n",
       "  /* Default theme specific background. It is overwritten whether we have a\n",
       "  specific estimator or a Pipeline/ColumnTransformer */\n",
       "  background-color: var(--sklearn-color-background);\n",
       "}\n",
       "\n",
       "/* Toggleable label */\n",
       "#sk-container-id-1 label.sk-toggleable__label {\n",
       "  cursor: pointer;\n",
       "  display: flex;\n",
       "  width: 100%;\n",
       "  margin-bottom: 0;\n",
       "  padding: 0.5em;\n",
       "  box-sizing: border-box;\n",
       "  text-align: center;\n",
       "  align-items: start;\n",
       "  justify-content: space-between;\n",
       "  gap: 0.5em;\n",
       "}\n",
       "\n",
       "#sk-container-id-1 label.sk-toggleable__label .caption {\n",
       "  font-size: 0.6rem;\n",
       "  font-weight: lighter;\n",
       "  color: var(--sklearn-color-text-muted);\n",
       "}\n",
       "\n",
       "#sk-container-id-1 label.sk-toggleable__label-arrow:before {\n",
       "  /* Arrow on the left of the label */\n",
       "  content: \"▸\";\n",
       "  float: left;\n",
       "  margin-right: 0.25em;\n",
       "  color: var(--sklearn-color-icon);\n",
       "}\n",
       "\n",
       "#sk-container-id-1 label.sk-toggleable__label-arrow:hover:before {\n",
       "  color: var(--sklearn-color-text);\n",
       "}\n",
       "\n",
       "/* Toggleable content - dropdown */\n",
       "\n",
       "#sk-container-id-1 div.sk-toggleable__content {\n",
       "  display: none;\n",
       "  text-align: left;\n",
       "  /* unfitted */\n",
       "  background-color: var(--sklearn-color-unfitted-level-0);\n",
       "}\n",
       "\n",
       "#sk-container-id-1 div.sk-toggleable__content.fitted {\n",
       "  /* fitted */\n",
       "  background-color: var(--sklearn-color-fitted-level-0);\n",
       "}\n",
       "\n",
       "#sk-container-id-1 div.sk-toggleable__content pre {\n",
       "  margin: 0.2em;\n",
       "  border-radius: 0.25em;\n",
       "  color: var(--sklearn-color-text);\n",
       "  /* unfitted */\n",
       "  background-color: var(--sklearn-color-unfitted-level-0);\n",
       "}\n",
       "\n",
       "#sk-container-id-1 div.sk-toggleable__content.fitted pre {\n",
       "  /* unfitted */\n",
       "  background-color: var(--sklearn-color-fitted-level-0);\n",
       "}\n",
       "\n",
       "#sk-container-id-1 input.sk-toggleable__control:checked~div.sk-toggleable__content {\n",
       "  /* Expand drop-down */\n",
       "  display: block;\n",
       "  width: 100%;\n",
       "  overflow: visible;\n",
       "}\n",
       "\n",
       "#sk-container-id-1 input.sk-toggleable__control:checked~label.sk-toggleable__label-arrow:before {\n",
       "  content: \"▾\";\n",
       "}\n",
       "\n",
       "/* Pipeline/ColumnTransformer-specific style */\n",
       "\n",
       "#sk-container-id-1 div.sk-label input.sk-toggleable__control:checked~label.sk-toggleable__label {\n",
       "  color: var(--sklearn-color-text);\n",
       "  background-color: var(--sklearn-color-unfitted-level-2);\n",
       "}\n",
       "\n",
       "#sk-container-id-1 div.sk-label.fitted input.sk-toggleable__control:checked~label.sk-toggleable__label {\n",
       "  background-color: var(--sklearn-color-fitted-level-2);\n",
       "}\n",
       "\n",
       "/* Estimator-specific style */\n",
       "\n",
       "/* Colorize estimator box */\n",
       "#sk-container-id-1 div.sk-estimator input.sk-toggleable__control:checked~label.sk-toggleable__label {\n",
       "  /* unfitted */\n",
       "  background-color: var(--sklearn-color-unfitted-level-2);\n",
       "}\n",
       "\n",
       "#sk-container-id-1 div.sk-estimator.fitted input.sk-toggleable__control:checked~label.sk-toggleable__label {\n",
       "  /* fitted */\n",
       "  background-color: var(--sklearn-color-fitted-level-2);\n",
       "}\n",
       "\n",
       "#sk-container-id-1 div.sk-label label.sk-toggleable__label,\n",
       "#sk-container-id-1 div.sk-label label {\n",
       "  /* The background is the default theme color */\n",
       "  color: var(--sklearn-color-text-on-default-background);\n",
       "}\n",
       "\n",
       "/* On hover, darken the color of the background */\n",
       "#sk-container-id-1 div.sk-label:hover label.sk-toggleable__label {\n",
       "  color: var(--sklearn-color-text);\n",
       "  background-color: var(--sklearn-color-unfitted-level-2);\n",
       "}\n",
       "\n",
       "/* Label box, darken color on hover, fitted */\n",
       "#sk-container-id-1 div.sk-label.fitted:hover label.sk-toggleable__label.fitted {\n",
       "  color: var(--sklearn-color-text);\n",
       "  background-color: var(--sklearn-color-fitted-level-2);\n",
       "}\n",
       "\n",
       "/* Estimator label */\n",
       "\n",
       "#sk-container-id-1 div.sk-label label {\n",
       "  font-family: monospace;\n",
       "  font-weight: bold;\n",
       "  display: inline-block;\n",
       "  line-height: 1.2em;\n",
       "}\n",
       "\n",
       "#sk-container-id-1 div.sk-label-container {\n",
       "  text-align: center;\n",
       "}\n",
       "\n",
       "/* Estimator-specific */\n",
       "#sk-container-id-1 div.sk-estimator {\n",
       "  font-family: monospace;\n",
       "  border: 1px dotted var(--sklearn-color-border-box);\n",
       "  border-radius: 0.25em;\n",
       "  box-sizing: border-box;\n",
       "  margin-bottom: 0.5em;\n",
       "  /* unfitted */\n",
       "  background-color: var(--sklearn-color-unfitted-level-0);\n",
       "}\n",
       "\n",
       "#sk-container-id-1 div.sk-estimator.fitted {\n",
       "  /* fitted */\n",
       "  background-color: var(--sklearn-color-fitted-level-0);\n",
       "}\n",
       "\n",
       "/* on hover */\n",
       "#sk-container-id-1 div.sk-estimator:hover {\n",
       "  /* unfitted */\n",
       "  background-color: var(--sklearn-color-unfitted-level-2);\n",
       "}\n",
       "\n",
       "#sk-container-id-1 div.sk-estimator.fitted:hover {\n",
       "  /* fitted */\n",
       "  background-color: var(--sklearn-color-fitted-level-2);\n",
       "}\n",
       "\n",
       "/* Specification for estimator info (e.g. \"i\" and \"?\") */\n",
       "\n",
       "/* Common style for \"i\" and \"?\" */\n",
       "\n",
       ".sk-estimator-doc-link,\n",
       "a:link.sk-estimator-doc-link,\n",
       "a:visited.sk-estimator-doc-link {\n",
       "  float: right;\n",
       "  font-size: smaller;\n",
       "  line-height: 1em;\n",
       "  font-family: monospace;\n",
       "  background-color: var(--sklearn-color-background);\n",
       "  border-radius: 1em;\n",
       "  height: 1em;\n",
       "  width: 1em;\n",
       "  text-decoration: none !important;\n",
       "  margin-left: 0.5em;\n",
       "  text-align: center;\n",
       "  /* unfitted */\n",
       "  border: var(--sklearn-color-unfitted-level-1) 1pt solid;\n",
       "  color: var(--sklearn-color-unfitted-level-1);\n",
       "}\n",
       "\n",
       ".sk-estimator-doc-link.fitted,\n",
       "a:link.sk-estimator-doc-link.fitted,\n",
       "a:visited.sk-estimator-doc-link.fitted {\n",
       "  /* fitted */\n",
       "  border: var(--sklearn-color-fitted-level-1) 1pt solid;\n",
       "  color: var(--sklearn-color-fitted-level-1);\n",
       "}\n",
       "\n",
       "/* On hover */\n",
       "div.sk-estimator:hover .sk-estimator-doc-link:hover,\n",
       ".sk-estimator-doc-link:hover,\n",
       "div.sk-label-container:hover .sk-estimator-doc-link:hover,\n",
       ".sk-estimator-doc-link:hover {\n",
       "  /* unfitted */\n",
       "  background-color: var(--sklearn-color-unfitted-level-3);\n",
       "  color: var(--sklearn-color-background);\n",
       "  text-decoration: none;\n",
       "}\n",
       "\n",
       "div.sk-estimator.fitted:hover .sk-estimator-doc-link.fitted:hover,\n",
       ".sk-estimator-doc-link.fitted:hover,\n",
       "div.sk-label-container:hover .sk-estimator-doc-link.fitted:hover,\n",
       ".sk-estimator-doc-link.fitted:hover {\n",
       "  /* fitted */\n",
       "  background-color: var(--sklearn-color-fitted-level-3);\n",
       "  color: var(--sklearn-color-background);\n",
       "  text-decoration: none;\n",
       "}\n",
       "\n",
       "/* Span, style for the box shown on hovering the info icon */\n",
       ".sk-estimator-doc-link span {\n",
       "  display: none;\n",
       "  z-index: 9999;\n",
       "  position: relative;\n",
       "  font-weight: normal;\n",
       "  right: .2ex;\n",
       "  padding: .5ex;\n",
       "  margin: .5ex;\n",
       "  width: min-content;\n",
       "  min-width: 20ex;\n",
       "  max-width: 50ex;\n",
       "  color: var(--sklearn-color-text);\n",
       "  box-shadow: 2pt 2pt 4pt #999;\n",
       "  /* unfitted */\n",
       "  background: var(--sklearn-color-unfitted-level-0);\n",
       "  border: .5pt solid var(--sklearn-color-unfitted-level-3);\n",
       "}\n",
       "\n",
       ".sk-estimator-doc-link.fitted span {\n",
       "  /* fitted */\n",
       "  background: var(--sklearn-color-fitted-level-0);\n",
       "  border: var(--sklearn-color-fitted-level-3);\n",
       "}\n",
       "\n",
       ".sk-estimator-doc-link:hover span {\n",
       "  display: block;\n",
       "}\n",
       "\n",
       "/* \"?\"-specific style due to the `<a>` HTML tag */\n",
       "\n",
       "#sk-container-id-1 a.estimator_doc_link {\n",
       "  float: right;\n",
       "  font-size: 1rem;\n",
       "  line-height: 1em;\n",
       "  font-family: monospace;\n",
       "  background-color: var(--sklearn-color-background);\n",
       "  border-radius: 1rem;\n",
       "  height: 1rem;\n",
       "  width: 1rem;\n",
       "  text-decoration: none;\n",
       "  /* unfitted */\n",
       "  color: var(--sklearn-color-unfitted-level-1);\n",
       "  border: var(--sklearn-color-unfitted-level-1) 1pt solid;\n",
       "}\n",
       "\n",
       "#sk-container-id-1 a.estimator_doc_link.fitted {\n",
       "  /* fitted */\n",
       "  border: var(--sklearn-color-fitted-level-1) 1pt solid;\n",
       "  color: var(--sklearn-color-fitted-level-1);\n",
       "}\n",
       "\n",
       "/* On hover */\n",
       "#sk-container-id-1 a.estimator_doc_link:hover {\n",
       "  /* unfitted */\n",
       "  background-color: var(--sklearn-color-unfitted-level-3);\n",
       "  color: var(--sklearn-color-background);\n",
       "  text-decoration: none;\n",
       "}\n",
       "\n",
       "#sk-container-id-1 a.estimator_doc_link.fitted:hover {\n",
       "  /* fitted */\n",
       "  background-color: var(--sklearn-color-fitted-level-3);\n",
       "}\n",
       "\n",
       ".estimator-table summary {\n",
       "    padding: .5rem;\n",
       "    font-family: monospace;\n",
       "    cursor: pointer;\n",
       "}\n",
       "\n",
       ".estimator-table details[open] {\n",
       "    padding-left: 0.1rem;\n",
       "    padding-right: 0.1rem;\n",
       "    padding-bottom: 0.3rem;\n",
       "}\n",
       "\n",
       ".estimator-table .parameters-table {\n",
       "    margin-left: auto !important;\n",
       "    margin-right: auto !important;\n",
       "}\n",
       "\n",
       ".estimator-table .parameters-table tr:nth-child(odd) {\n",
       "    background-color: #fff;\n",
       "}\n",
       "\n",
       ".estimator-table .parameters-table tr:nth-child(even) {\n",
       "    background-color: #f6f6f6;\n",
       "}\n",
       "\n",
       ".estimator-table .parameters-table tr:hover {\n",
       "    background-color: #e0e0e0;\n",
       "}\n",
       "\n",
       ".estimator-table table td {\n",
       "    border: 1px solid rgba(106, 105, 104, 0.232);\n",
       "}\n",
       "\n",
       ".user-set td {\n",
       "    color:rgb(255, 94, 0);\n",
       "    text-align: left;\n",
       "}\n",
       "\n",
       ".user-set td.value pre {\n",
       "    color:rgb(255, 94, 0) !important;\n",
       "    background-color: transparent !important;\n",
       "}\n",
       "\n",
       ".default td {\n",
       "    color: black;\n",
       "    text-align: left;\n",
       "}\n",
       "\n",
       ".user-set td i,\n",
       ".default td i {\n",
       "    color: black;\n",
       "}\n",
       "\n",
       ".copy-paste-icon {\n",
       "    background-image: url(data:image/svg+xml;base64,PHN2ZyB4bWxucz0iaHR0cDovL3d3dy53My5vcmcvMjAwMC9zdmciIHZpZXdCb3g9IjAgMCA0NDggNTEyIj48IS0tIUZvbnQgQXdlc29tZSBGcmVlIDYuNy4yIGJ5IEBmb250YXdlc29tZSAtIGh0dHBzOi8vZm9udGF3ZXNvbWUuY29tIExpY2Vuc2UgLSBodHRwczovL2ZvbnRhd2Vzb21lLmNvbS9saWNlbnNlL2ZyZWUgQ29weXJpZ2h0IDIwMjUgRm9udGljb25zLCBJbmMuLS0+PHBhdGggZD0iTTIwOCAwTDMzMi4xIDBjMTIuNyAwIDI0LjkgNS4xIDMzLjkgMTQuMWw2Ny45IDY3LjljOSA5IDE0LjEgMjEuMiAxNC4xIDMzLjlMNDQ4IDMzNmMwIDI2LjUtMjEuNSA0OC00OCA0OGwtMTkyIDBjLTI2LjUgMC00OC0yMS41LTQ4LTQ4bDAtMjg4YzAtMjYuNSAyMS41LTQ4IDQ4LTQ4ek00OCAxMjhsODAgMCAwIDY0LTY0IDAgMCAyNTYgMTkyIDAgMC0zMiA2NCAwIDAgNDhjMCAyNi41LTIxLjUgNDgtNDggNDhMNDggNTEyYy0yNi41IDAtNDgtMjEuNS00OC00OEwwIDE3NmMwLTI2LjUgMjEuNS00OCA0OC00OHoiLz48L3N2Zz4=);\n",
       "    background-repeat: no-repeat;\n",
       "    background-size: 14px 14px;\n",
       "    background-position: 0;\n",
       "    display: inline-block;\n",
       "    width: 14px;\n",
       "    height: 14px;\n",
       "    cursor: pointer;\n",
       "}\n",
       "</style><body><div id=\"sk-container-id-1\" class=\"sk-top-container\"><div class=\"sk-text-repr-fallback\"><pre>DecisionTreeClassifier(criterion=&#x27;entropy&#x27;, max_depth=5, random_state=42)</pre><b>In a Jupyter environment, please rerun this cell to show the HTML representation or trust the notebook. <br />On GitHub, the HTML representation is unable to render, please try loading this page with nbviewer.org.</b></div><div class=\"sk-container\" hidden><div class=\"sk-item\"><div class=\"sk-estimator fitted sk-toggleable\"><input class=\"sk-toggleable__control sk-hidden--visually\" id=\"sk-estimator-id-1\" type=\"checkbox\" checked><label for=\"sk-estimator-id-1\" class=\"sk-toggleable__label fitted sk-toggleable__label-arrow\"><div><div>DecisionTreeClassifier</div></div><div><a class=\"sk-estimator-doc-link fitted\" rel=\"noreferrer\" target=\"_blank\" href=\"https://scikit-learn.org/1.7/modules/generated/sklearn.tree.DecisionTreeClassifier.html\">?<span>Documentation for DecisionTreeClassifier</span></a><span class=\"sk-estimator-doc-link fitted\">i<span>Fitted</span></span></div></label><div class=\"sk-toggleable__content fitted\" data-param-prefix=\"\">\n",
       "        <div class=\"estimator-table\">\n",
       "            <details>\n",
       "                <summary>Parameters</summary>\n",
       "                <table class=\"parameters-table\">\n",
       "                  <tbody>\n",
       "                    \n",
       "        <tr class=\"user-set\">\n",
       "            <td><i class=\"copy-paste-icon\"\n",
       "                 onclick=\"copyToClipboard('criterion',\n",
       "                          this.parentElement.nextElementSibling)\"\n",
       "            ></i></td>\n",
       "            <td class=\"param\">criterion&nbsp;</td>\n",
       "            <td class=\"value\">&#x27;entropy&#x27;</td>\n",
       "        </tr>\n",
       "    \n",
       "\n",
       "        <tr class=\"default\">\n",
       "            <td><i class=\"copy-paste-icon\"\n",
       "                 onclick=\"copyToClipboard('splitter',\n",
       "                          this.parentElement.nextElementSibling)\"\n",
       "            ></i></td>\n",
       "            <td class=\"param\">splitter&nbsp;</td>\n",
       "            <td class=\"value\">&#x27;best&#x27;</td>\n",
       "        </tr>\n",
       "    \n",
       "\n",
       "        <tr class=\"user-set\">\n",
       "            <td><i class=\"copy-paste-icon\"\n",
       "                 onclick=\"copyToClipboard('max_depth',\n",
       "                          this.parentElement.nextElementSibling)\"\n",
       "            ></i></td>\n",
       "            <td class=\"param\">max_depth&nbsp;</td>\n",
       "            <td class=\"value\">5</td>\n",
       "        </tr>\n",
       "    \n",
       "\n",
       "        <tr class=\"default\">\n",
       "            <td><i class=\"copy-paste-icon\"\n",
       "                 onclick=\"copyToClipboard('min_samples_split',\n",
       "                          this.parentElement.nextElementSibling)\"\n",
       "            ></i></td>\n",
       "            <td class=\"param\">min_samples_split&nbsp;</td>\n",
       "            <td class=\"value\">2</td>\n",
       "        </tr>\n",
       "    \n",
       "\n",
       "        <tr class=\"default\">\n",
       "            <td><i class=\"copy-paste-icon\"\n",
       "                 onclick=\"copyToClipboard('min_samples_leaf',\n",
       "                          this.parentElement.nextElementSibling)\"\n",
       "            ></i></td>\n",
       "            <td class=\"param\">min_samples_leaf&nbsp;</td>\n",
       "            <td class=\"value\">1</td>\n",
       "        </tr>\n",
       "    \n",
       "\n",
       "        <tr class=\"default\">\n",
       "            <td><i class=\"copy-paste-icon\"\n",
       "                 onclick=\"copyToClipboard('min_weight_fraction_leaf',\n",
       "                          this.parentElement.nextElementSibling)\"\n",
       "            ></i></td>\n",
       "            <td class=\"param\">min_weight_fraction_leaf&nbsp;</td>\n",
       "            <td class=\"value\">0.0</td>\n",
       "        </tr>\n",
       "    \n",
       "\n",
       "        <tr class=\"default\">\n",
       "            <td><i class=\"copy-paste-icon\"\n",
       "                 onclick=\"copyToClipboard('max_features',\n",
       "                          this.parentElement.nextElementSibling)\"\n",
       "            ></i></td>\n",
       "            <td class=\"param\">max_features&nbsp;</td>\n",
       "            <td class=\"value\">None</td>\n",
       "        </tr>\n",
       "    \n",
       "\n",
       "        <tr class=\"user-set\">\n",
       "            <td><i class=\"copy-paste-icon\"\n",
       "                 onclick=\"copyToClipboard('random_state',\n",
       "                          this.parentElement.nextElementSibling)\"\n",
       "            ></i></td>\n",
       "            <td class=\"param\">random_state&nbsp;</td>\n",
       "            <td class=\"value\">42</td>\n",
       "        </tr>\n",
       "    \n",
       "\n",
       "        <tr class=\"default\">\n",
       "            <td><i class=\"copy-paste-icon\"\n",
       "                 onclick=\"copyToClipboard('max_leaf_nodes',\n",
       "                          this.parentElement.nextElementSibling)\"\n",
       "            ></i></td>\n",
       "            <td class=\"param\">max_leaf_nodes&nbsp;</td>\n",
       "            <td class=\"value\">None</td>\n",
       "        </tr>\n",
       "    \n",
       "\n",
       "        <tr class=\"default\">\n",
       "            <td><i class=\"copy-paste-icon\"\n",
       "                 onclick=\"copyToClipboard('min_impurity_decrease',\n",
       "                          this.parentElement.nextElementSibling)\"\n",
       "            ></i></td>\n",
       "            <td class=\"param\">min_impurity_decrease&nbsp;</td>\n",
       "            <td class=\"value\">0.0</td>\n",
       "        </tr>\n",
       "    \n",
       "\n",
       "        <tr class=\"default\">\n",
       "            <td><i class=\"copy-paste-icon\"\n",
       "                 onclick=\"copyToClipboard('class_weight',\n",
       "                          this.parentElement.nextElementSibling)\"\n",
       "            ></i></td>\n",
       "            <td class=\"param\">class_weight&nbsp;</td>\n",
       "            <td class=\"value\">None</td>\n",
       "        </tr>\n",
       "    \n",
       "\n",
       "        <tr class=\"default\">\n",
       "            <td><i class=\"copy-paste-icon\"\n",
       "                 onclick=\"copyToClipboard('ccp_alpha',\n",
       "                          this.parentElement.nextElementSibling)\"\n",
       "            ></i></td>\n",
       "            <td class=\"param\">ccp_alpha&nbsp;</td>\n",
       "            <td class=\"value\">0.0</td>\n",
       "        </tr>\n",
       "    \n",
       "\n",
       "        <tr class=\"default\">\n",
       "            <td><i class=\"copy-paste-icon\"\n",
       "                 onclick=\"copyToClipboard('monotonic_cst',\n",
       "                          this.parentElement.nextElementSibling)\"\n",
       "            ></i></td>\n",
       "            <td class=\"param\">monotonic_cst&nbsp;</td>\n",
       "            <td class=\"value\">None</td>\n",
       "        </tr>\n",
       "    \n",
       "                  </tbody>\n",
       "                </table>\n",
       "            </details>\n",
       "        </div>\n",
       "    </div></div></div></div></div><script>function copyToClipboard(text, element) {\n",
       "    // Get the parameter prefix from the closest toggleable content\n",
       "    const toggleableContent = element.closest('.sk-toggleable__content');\n",
       "    const paramPrefix = toggleableContent ? toggleableContent.dataset.paramPrefix : '';\n",
       "    const fullParamName = paramPrefix ? `${paramPrefix}${text}` : text;\n",
       "\n",
       "    const originalStyle = element.style;\n",
       "    const computedStyle = window.getComputedStyle(element);\n",
       "    const originalWidth = computedStyle.width;\n",
       "    const originalHTML = element.innerHTML.replace('Copied!', '');\n",
       "\n",
       "    navigator.clipboard.writeText(fullParamName)\n",
       "        .then(() => {\n",
       "            element.style.width = originalWidth;\n",
       "            element.style.color = 'green';\n",
       "            element.innerHTML = \"Copied!\";\n",
       "\n",
       "            setTimeout(() => {\n",
       "                element.innerHTML = originalHTML;\n",
       "                element.style = originalStyle;\n",
       "            }, 2000);\n",
       "        })\n",
       "        .catch(err => {\n",
       "            console.error('Failed to copy:', err);\n",
       "            element.style.color = 'red';\n",
       "            element.innerHTML = \"Failed!\";\n",
       "            setTimeout(() => {\n",
       "                element.innerHTML = originalHTML;\n",
       "                element.style = originalStyle;\n",
       "            }, 2000);\n",
       "        });\n",
       "    return false;\n",
       "}\n",
       "\n",
       "document.querySelectorAll('.fa-regular.fa-copy').forEach(function(element) {\n",
       "    const toggleableContent = element.closest('.sk-toggleable__content');\n",
       "    const paramPrefix = toggleableContent ? toggleableContent.dataset.paramPrefix : '';\n",
       "    const paramName = element.parentElement.nextElementSibling.textContent.trim();\n",
       "    const fullParamName = paramPrefix ? `${paramPrefix}${paramName}` : paramName;\n",
       "\n",
       "    element.setAttribute('title', fullParamName);\n",
       "});\n",
       "</script></body>"
      ],
      "text/plain": [
       "DecisionTreeClassifier(criterion='entropy', max_depth=5, random_state=42)"
      ]
     },
     "execution_count": 37,
     "metadata": {},
     "output_type": "execute_result"
    }
   ],
   "source": [
    "from sklearn.tree import DecisionTreeClassifier\n",
    "\n",
    "model = DecisionTreeClassifier(\n",
    "    criterion='entropy',\n",
    "    random_state=42,\n",
    "    max_depth=5\n",
    ")\n",
    "\n",
    "model.fit(X_train, y_train)"
   ]
  },
  {
   "cell_type": "code",
   "execution_count": 38,
   "id": "0a96f234",
   "metadata": {},
   "outputs": [],
   "source": [
    "y_pred = model.predict(X_test)"
   ]
  },
  {
   "cell_type": "markdown",
   "id": "c7b55739",
   "metadata": {},
   "source": [
    "#### 3f. Perform model evaluation"
   ]
  },
  {
   "cell_type": "markdown",
   "id": "82ba0932",
   "metadata": {},
   "source": [
    "1. Accuracy Score dan Clasification Report"
   ]
  },
  {
   "cell_type": "code",
   "execution_count": 39,
   "id": "e366dc76",
   "metadata": {},
   "outputs": [
    {
     "name": "stdout",
     "output_type": "stream",
     "text": [
      "Accuracy Score: 0.7532\n",
      "\n",
      "Classification Report:\n",
      "               precision    recall  f1-score   support\n",
      "\n",
      "        Fail       0.96      0.71      0.81       177\n",
      "        Pass       0.49      0.91      0.63        54\n",
      "\n",
      "    accuracy                           0.75       231\n",
      "   macro avg       0.72      0.81      0.72       231\n",
      "weighted avg       0.85      0.75      0.77       231\n",
      "\n"
     ]
    }
   ],
   "source": [
    "from sklearn.metrics import accuracy_score, classification_report\n",
    "\n",
    "print(f\"Accuracy Score: {accuracy_score(y_test, y_pred):.4f}\")\n",
    "print(\"\\nClassification Report:\\n\", classification_report(y_test, y_pred, target_names=['Fail', 'Pass']))"
   ]
  },
  {
   "cell_type": "markdown",
   "id": "43802514",
   "metadata": {},
   "source": [
    "Penjelasan :\n",
    "\n",
    "- Berdasarkan output Accuracy Score dan Classification Report, dapat dilihat bahwa model memiliki akurasi sebesar 75,32%, yang berarti masih terdapat kesalahan prediksi pada sekitar seperempat data uji. \n",
    "- Kelas Fail memiliki tingkat ketepatan tinggi (precision 0,96) namun tidak semua kasus berhasil dikenali (recall 0,71), sedangkan kelas Pass memiliki kemampuan mengenali tinggi (recall 0,91) namun ketepatan prediksinya rendah (precision 0,49). \n",
    "- Secara keseluruhan, model menunjukkan kinerja cukup baik, tetapi `masih sering salah dalam memprediksi` kelas Pass.\n",
    "\n",
    "---"
   ]
  },
  {
   "cell_type": "markdown",
   "id": "1c245c75",
   "metadata": {},
   "source": [
    "2. Visualisasi Pohon Keputusan"
   ]
  },
  {
   "cell_type": "code",
   "execution_count": 40,
   "id": "9931ac9c",
   "metadata": {},
   "outputs": [
    {
     "data": {
      "image/png": "[encoded data removed]",
      "text/plain": [
       "<Figure size 800x600 with 1 Axes>"
      ]
     },
     "metadata": {},
     "output_type": "display_data"
    }
   ],
   "source": [
    "from sklearn.tree import plot_tree\n",
    "\n",
    "feature_names = X.columns.tolist()\n",
    "class_names = ['Fail', 'Pass']\n",
    "\n",
    "plt.figure(figsize=(8,6))\n",
    "plot_tree(\n",
    "    model,\n",
    "    feature_names=feature_names,\n",
    "    class_names=class_names,\n",
    "    filled=True,\n",
    "    rounded=True,\n",
    "    fontsize=10\n",
    ")\n",
    "plt.title(\"Visualisasi Pohon Keputusan (Decision Tree)\", fontsize=14)\n",
    "plt.show()"
   ]
  },
  {
   "cell_type": "markdown",
   "id": "f0cad72a",
   "metadata": {},
   "source": [
    "Penjelasan :\n",
    "\n",
    "- Berdasarkan hasil visualisasi pohon keputusan dapat dilihat model memisahkan data hanya berdasarkan variabel `SKS`, dengan batas utama **SKS ≤ 143.5** untuk mengklasifikasikan mahasiswa sebagai **Fail**, dan nilai di atasnya cenderung Pass. \n",
    "- Struktur pohon yang sederhana menunjukkan bahwa model `hanya bergantung pada satu fitur`, sehingga kemampuan prediksinya terbatas. \n",
    "- Akibatnya, model menjadi kurang akurat dan tidak mampu menangkap faktor lain yang mungkin memengaruhi hasil akhir, karena hanya kolom SKS yang digunakan sebagai fitur (X) dalam pelatihan. \n",
    "- Oleh karena itu, ditemukan solusi dari permaslahan ini yaitu membutuhkan tambahan kolom tambahan untuk Fitur (X) selain menggunakan kolom SKS dalam pemodelan.\n",
    "\n",
    "\n",
    "---"
   ]
  },
  {
   "cell_type": "markdown",
   "id": "fa1ffcda",
   "metadata": {},
   "source": [
    "3. Confusion Matrix"
   ]
  },
  {
   "cell_type": "code",
   "execution_count": 41,
   "id": "327e85aa",
   "metadata": {},
   "outputs": [
    {
     "data": {
      "image/png": "[encoded data removed]",
      "text/plain": [
       "<Figure size 800x600 with 2 Axes>"
      ]
     },
     "metadata": {},
     "output_type": "display_data"
    }
   ],
   "source": [
    "from sklearn.metrics import confusion_matrix\n",
    "\n",
    "cm = confusion_matrix(y_test, y_pred)\n",
    "class_names = ['Fail', 'Pass']\n",
    "\n",
    "plt.figure(figsize=(8, 6))\n",
    "sns.heatmap(\n",
    "    cm,\n",
    "    annot=True,\n",
    "    fmt='d', \n",
    "    cmap='Blues',\n",
    "    xticklabels=class_names,\n",
    "    yticklabels=class_names\n",
    ")\n",
    "plt.xlabel('Prediksi Kelas')\n",
    "plt.ylabel('Kelas Aktual')\n",
    "plt.title('Confusion Matrix', fontsize=14)\n",
    "plt.show()"
   ]
  },
  {
   "cell_type": "markdown",
   "id": "32f7c0f2",
   "metadata": {},
   "source": [
    "Penjelasan :\n",
    "\n",
    "- Berdasarkan hasil `Confusion Matrix` dapat menunjukkan bahwa model berhasil memprediksi beberapa data dengan benar. Namun, yang perlu diperhatikan bahwa masih ada banyak data yang salah diprediksi sebagai oleh model, yaitu 52. \n",
    "- Hal ini menunjukkan bahwa `model masih banyak keliru dalam memprediksi`, sehingga performanya cenderung kurang seimbang antar kelas. \n",
    "- Kesalahan ini juga sejalan dengan hasil Clasification Report sebelumnya, di mana model memiliki precision rendah pada kelas Pass, menandakan bahwa model masih sulit membedakan kedua kelas dengan baik.\n",
    "\n",
    "\n",
    "---"
   ]
  },
  {
   "cell_type": "markdown",
   "id": "5cbda348",
   "metadata": {},
   "source": [
    "#### - Membuat Pemodelan Baru Dengan Penambahan Pada Fitur (X) `(Tambahan)`"
   ]
  },
  {
   "cell_type": "markdown",
   "id": "1d85a918",
   "metadata": {},
   "source": [
    "Berdasarkan hasil evaluasi pemodelan diatas dimana dalam pemilihan fitur (X) hanya menggunakan kolom `SKS` dan target (y) menggunakan kolom `LABEL` untuk membangun model prediksi kelulusan mahasiswa. Ternyata model yang dihasilkan tidak memuaskan, karena model banyak keliru dalam memprediksi. \n",
    "\n",
    "Penyebab masalah ini ditemukan saat melihat visualisasi Decision Tree, ternyata jika hanya menggunakan SKS atau hanya ada 1 dalam fitur (X) membuat kemampuan model dalam memprediksi menjadi terbatas sehingga menjadi tidak akurat. Karena secara logika, model hanya menentukan mahasiswa lolos atau tidak berdasarkan jumlah SKS saja, tanpa berdasarkan Grade.\n",
    "\n",
    "Perlu diingat juga bahwa kriteria kelulusan mahasiswa adalah minimal total SKS >= 144 dan tidak ada Grade D, E, and F. Dalam membangun model, kita sudah menggunakan SKS, namun ternyata belum membuat kriteria berdasarkan GRADE. \n",
    "\n",
    "Oleh karena itu, proses berikutnya adalah pembuatan model baru dengan menambahkan kolom baru bernama `Jml_Nilai_Fail` yang memberikan informasi berapa jumlah Grade/Nilai yang tidak lulus (D, E, F) untuk **ditambahkan** kedalam Fitur (X) untuk menentukan mahasiswa tersebut lolos atau tidak. \n",
    "\n",
    "---"
   ]
  },
  {
   "cell_type": "markdown",
   "id": "1ba070b4",
   "metadata": {},
   "source": [
    "#### - Membuat Fitur Baru `Jml_Nilai_Pass` sebagai tambahan untuk Fitur (X) `(Tambahan)`"
   ]
  },
  {
   "cell_type": "markdown",
   "id": "fd557c6e",
   "metadata": {},
   "source": [
    "1. Membuat Fungsi untuk menghitung nilai Fail (D, E, F)"
   ]
  },
  {
   "cell_type": "code",
   "execution_count": 42,
   "id": "4a80bdbf",
   "metadata": {},
   "outputs": [],
   "source": [
    "def count_deficient_grades(grade_list):\n",
    "    deficient_grades = ['D', 'E', 'F']\n",
    "    count = 0\n",
    "    if isinstance(grade_list, list):\n",
    "        for grade in grade_list:\n",
    "            if any(g in grade for g in deficient_grades):\n",
    "                count += 1\n",
    "    return count"
   ]
  },
  {
   "cell_type": "markdown",
   "id": "98307aa4",
   "metadata": {},
   "source": [
    "Penjelasan :\n",
    "\n",
    "- Fungsi diatas dibangun untuk menghitung jumlah nilai yang gagal (D, E, F) pada data.\n",
    "\n",
    "---"
   ]
  },
  {
   "cell_type": "markdown",
   "id": "3a329205",
   "metadata": {},
   "source": [
    "2. Membuat Kolom baru `Jml_Nilai_Fail`"
   ]
  },
  {
   "cell_type": "code",
   "execution_count": 43,
   "id": "7828f7ef",
   "metadata": {},
   "outputs": [],
   "source": [
    "df_grouped['Jml_Nilai_Fail'] = df_grouped['GRADE'].apply(count_deficient_grades)"
   ]
  },
  {
   "cell_type": "markdown",
   "id": "c88a664a",
   "metadata": {},
   "source": [
    "3. Menampilkan DataFrame terbaru dengan Kolom `Jml_Nilai_Fail`"
   ]
  },
  {
   "cell_type": "code",
   "execution_count": 44,
   "id": "84990c0c",
   "metadata": {},
   "outputs": [
    {
     "data": {
      "text/html": [
       "<div>\n",
       "<style scoped>\n",
       "    .dataframe tbody tr th:only-of-type {\n",
       "        vertical-align: middle;\n",
       "    }\n",
       "\n",
       "    .dataframe tbody tr th {\n",
       "        vertical-align: top;\n",
       "    }\n",
       "\n",
       "    .dataframe thead th {\n",
       "        text-align: right;\n",
       "    }\n",
       "</style>\n",
       "<table border=\"1\" class=\"dataframe\">\n",
       "  <thead>\n",
       "    <tr style=\"text-align: right;\">\n",
       "      <th></th>\n",
       "      <th>NIM</th>\n",
       "      <th>SKS</th>\n",
       "      <th>Jml_Nilai_Fail</th>\n",
       "      <th>LABEL</th>\n",
       "    </tr>\n",
       "  </thead>\n",
       "  <tbody>\n",
       "    <tr>\n",
       "      <th>0</th>\n",
       "      <td>8429</td>\n",
       "      <td>145</td>\n",
       "      <td>1</td>\n",
       "      <td>0</td>\n",
       "    </tr>\n",
       "    <tr>\n",
       "      <th>1</th>\n",
       "      <td>8455</td>\n",
       "      <td>136</td>\n",
       "      <td>2</td>\n",
       "      <td>0</td>\n",
       "    </tr>\n",
       "    <tr>\n",
       "      <th>2</th>\n",
       "      <td>8481</td>\n",
       "      <td>127</td>\n",
       "      <td>7</td>\n",
       "      <td>0</td>\n",
       "    </tr>\n",
       "    <tr>\n",
       "      <th>3</th>\n",
       "      <td>8631</td>\n",
       "      <td>145</td>\n",
       "      <td>0</td>\n",
       "      <td>1</td>\n",
       "    </tr>\n",
       "    <tr>\n",
       "      <th>4</th>\n",
       "      <td>8684</td>\n",
       "      <td>145</td>\n",
       "      <td>0</td>\n",
       "      <td>1</td>\n",
       "    </tr>\n",
       "  </tbody>\n",
       "</table>\n",
       "</div>"
      ],
      "text/plain": [
       "    NIM  SKS  Jml_Nilai_Fail  LABEL\n",
       "0  8429  145               1      0\n",
       "1  8455  136               2      0\n",
       "2  8481  127               7      0\n",
       "3  8631  145               0      1\n",
       "4  8684  145               0      1"
      ]
     },
     "execution_count": 44,
     "metadata": {},
     "output_type": "execute_result"
    }
   ],
   "source": [
    "df_grouped[['NIM', 'SKS', 'Jml_Nilai_Fail', 'LABEL']].head()"
   ]
  },
  {
   "cell_type": "code",
   "execution_count": 45,
   "id": "24d6a3e5",
   "metadata": {},
   "outputs": [
    {
     "data": {
      "text/html": [
       "<div>\n",
       "<style scoped>\n",
       "    .dataframe tbody tr th:only-of-type {\n",
       "        vertical-align: middle;\n",
       "    }\n",
       "\n",
       "    .dataframe tbody tr th {\n",
       "        vertical-align: top;\n",
       "    }\n",
       "\n",
       "    .dataframe thead th {\n",
       "        text-align: right;\n",
       "    }\n",
       "</style>\n",
       "<table border=\"1\" class=\"dataframe\">\n",
       "  <thead>\n",
       "    <tr style=\"text-align: right;\">\n",
       "      <th></th>\n",
       "      <th>NIM</th>\n",
       "      <th>SKS</th>\n",
       "      <th>GRADE</th>\n",
       "      <th>LABEL</th>\n",
       "      <th>Jml_Nilai_Fail</th>\n",
       "    </tr>\n",
       "  </thead>\n",
       "  <tbody>\n",
       "    <tr>\n",
       "      <th>0</th>\n",
       "      <td>8429</td>\n",
       "      <td>145</td>\n",
       "      <td>[B-, C, B+, B-, A, A, B+, B, A, A-, C, A, A-, ...</td>\n",
       "      <td>0</td>\n",
       "      <td>1</td>\n",
       "    </tr>\n",
       "    <tr>\n",
       "      <th>1</th>\n",
       "      <td>8455</td>\n",
       "      <td>136</td>\n",
       "      <td>[C+, A, A-, D, A-, C, A, B+, C, B, B-, B+, B, ...</td>\n",
       "      <td>0</td>\n",
       "      <td>2</td>\n",
       "    </tr>\n",
       "    <tr>\n",
       "      <th>2</th>\n",
       "      <td>8481</td>\n",
       "      <td>127</td>\n",
       "      <td>[C, C+, B-, D, B-, C+, A, B, B+, B-, B+, C, C,...</td>\n",
       "      <td>0</td>\n",
       "      <td>7</td>\n",
       "    </tr>\n",
       "    <tr>\n",
       "      <th>3</th>\n",
       "      <td>8631</td>\n",
       "      <td>145</td>\n",
       "      <td>[A-, B+, A, C, A, A, B-, A-, A, B+, A-, B-, A,...</td>\n",
       "      <td>1</td>\n",
       "      <td>0</td>\n",
       "    </tr>\n",
       "    <tr>\n",
       "      <th>4</th>\n",
       "      <td>8684</td>\n",
       "      <td>145</td>\n",
       "      <td>[A-, B-, A, B, A-, A-, B+, A-, A, B, A, B-, A,...</td>\n",
       "      <td>1</td>\n",
       "      <td>0</td>\n",
       "    </tr>\n",
       "  </tbody>\n",
       "</table>\n",
       "</div>"
      ],
      "text/plain": [
       "    NIM  SKS                                              GRADE  LABEL  \\\n",
       "0  8429  145  [B-, C, B+, B-, A, A, B+, B, A, A-, C, A, A-, ...      0   \n",
       "1  8455  136  [C+, A, A-, D, A-, C, A, B+, C, B, B-, B+, B, ...      0   \n",
       "2  8481  127  [C, C+, B-, D, B-, C+, A, B, B+, B-, B+, C, C,...      0   \n",
       "3  8631  145  [A-, B+, A, C, A, A, B-, A-, A, B+, A-, B-, A,...      1   \n",
       "4  8684  145  [A-, B-, A, B, A-, A-, B+, A-, A, B, A, B-, A,...      1   \n",
       "\n",
       "   Jml_Nilai_Fail  \n",
       "0               1  \n",
       "1               2  \n",
       "2               7  \n",
       "3               0  \n",
       "4               0  "
      ]
     },
     "execution_count": 45,
     "metadata": {},
     "output_type": "execute_result"
    }
   ],
   "source": [
    "df_grouped.head()"
   ]
  },
  {
   "cell_type": "markdown",
   "id": "8e07f7bb",
   "metadata": {},
   "source": [
    "Penjelasan : \n",
    "\n",
    "- Dari output diatas kita bisa lihat bahwa kolom `Jml_Nilai_Fail` berhasil dibuat. \n",
    "\n",
    "- Bisa langsung dilihat contohnya, mahasiswa dengan NIM 8429. Pada kolom Jml_Nilai_Fail nya ada 1 dan SKS nya 145 (sudah sesuai dengan salah satu kriteria kelulusan) dan ternyata memang benar pada Label dia dinyatakan **Fail / 0** karena mahasiswa tersebut diketahui masih ada nilai yang D, E, F.\n",
    "\n",
    "- Berbeda dengan mahasiswa NIM 8631 dengan jumlah SKS 145 dan kolom Jml_Nilai_Fail nya 0. Pada label dia dinyatakan **Pass / 1** karena secara kriteria sks dan grade nya telah memenuhi untuk kelulusan.\n",
    "\n",
    "- Dengan berhasilnya pembuatan kolom `Jml_Nilai_Fail`, maka dapat dilanjutkan proses membangun model dengan menentukan Fitur (X) dan Target (y).\n",
    "\n",
    "---"
   ]
  },
  {
   "cell_type": "markdown",
   "id": "ed31b423",
   "metadata": {},
   "source": [
    "#### 3d. Divide training and testing data with a portion of 70:30"
   ]
  },
  {
   "cell_type": "markdown",
   "id": "86983bd2",
   "metadata": {},
   "source": [
    "1. Menentukan Fitur (X) dan Target (y) terbaru & Split Data 70:30"
   ]
  },
  {
   "cell_type": "code",
   "execution_count": 46,
   "id": "a7bc9532",
   "metadata": {},
   "outputs": [],
   "source": [
    "X_new = df_grouped[['SKS', 'Jml_Nilai_Fail']]\n",
    "y_new = df_grouped['LABEL']\n",
    "\n",
    "X_train_new, X_test_new, y_train_new, y_test_new = train_test_split(X_new, y_new, test_size=0.3, random_state=42, stratify=y)"
   ]
  },
  {
   "cell_type": "markdown",
   "id": "8f563e4d",
   "metadata": {},
   "source": [
    "2. Cek hasil pembagian (Jumlah Data)"
   ]
  },
  {
   "cell_type": "code",
   "execution_count": 47,
   "id": "87813cd1",
   "metadata": {},
   "outputs": [
    {
     "data": {
      "image/png": "[encoded data removed]",
      "text/plain": [
       "<Figure size 800x200 with 1 Axes>"
      ]
     },
     "metadata": {},
     "output_type": "display_data"
    }
   ],
   "source": [
    "train_size = len(X_train_new) / len(X_new) \n",
    "test_size = len(X_test_new) / len(X_new)\n",
    "\n",
    "fig, ax = plt.subplots(figsize=(8, 2))\n",
    "ax.broken_barh([(0, train_size), (train_size, test_size)], (0, 1), \n",
    "               facecolors=['lightblue', 'grey'], edgecolors='black')\n",
    "ax.text(train_size / 2, 0.5, 'Data Training\\n{:.0f} data'.format(len(X_train_new)), \n",
    "        ha='center', va='center', fontsize=12)\n",
    "ax.text(train_size + test_size / 2, 0.5, 'Data Testing\\n{:.0f} data'.format(len(X_test_new)), \n",
    "        ha='center', va='center', fontsize=12)\n",
    "\n",
    "ax.set_xlim(0, 1)\n",
    "ax.set_ylim(0, 1)\n",
    "ax.set_xticks([])\n",
    "ax.set_yticks([])\n",
    "ax.set_title(\"Pembagian Data Training dan Testing 70:30\", fontsize=14)\n",
    "plt.show()"
   ]
  },
  {
   "cell_type": "markdown",
   "id": "5d39972c",
   "metadata": {},
   "source": [
    "3. Cek hasil pembagian (Persentase Pembagian Data)"
   ]
  },
  {
   "cell_type": "code",
   "execution_count": 48,
   "id": "d88aefa0",
   "metadata": {},
   "outputs": [
    {
     "name": "stdout",
     "output_type": "stream",
     "text": [
      "Persentase pembagian data:\n",
      "\n",
      "Training: 70.0%\n",
      "Testing:  30.0%\n"
     ]
    }
   ],
   "source": [
    "print(\"Persentase pembagian data:\\n\")\n",
    "print(f\"Training: {X_train_new.shape[0]/len(X_new)*100:.1f}%\")\n",
    "print(f\"Testing:  {X_test_new.shape[0]/len(X_new)*100:.1f}%\")"
   ]
  },
  {
   "cell_type": "markdown",
   "id": "8ef727b6",
   "metadata": {},
   "source": [
    "4. Cek hasil pembagian (Distribusi Data)"
   ]
  },
  {
   "cell_type": "code",
   "execution_count": 49,
   "id": "afb6f546",
   "metadata": {},
   "outputs": [
    {
     "data": {
      "image/png": "[encoded data removed]",
      "text/plain": [
       "<Figure size 700x500 with 1 Axes>"
      ]
     },
     "metadata": {},
     "output_type": "display_data"
    },
    {
     "name": "stdout",
     "output_type": "stream",
     "text": [
      "Distribusi data training:\n",
      "LABEL\n",
      "0    0.764378\n",
      "1    0.235622\n",
      "Name: proportion, dtype: float64\n",
      "\n",
      "Distribusi data testing:\n",
      "LABEL\n",
      "0    0.766234\n",
      "1    0.233766\n",
      "Name: proportion, dtype: float64\n"
     ]
    }
   ],
   "source": [
    "import seaborn as sns\n",
    "import pandas as pd\n",
    "\n",
    "train_labels = y_train_new.value_counts().reset_index()\n",
    "train_labels.columns = ['Label', 'Jumlah']\n",
    "train_labels['Dataset'] = 'Training'\n",
    "\n",
    "test_labels = y_test_new.value_counts().reset_index()\n",
    "test_labels.columns = ['Label', 'Jumlah']\n",
    "test_labels['Dataset'] = 'Testing'\n",
    "\n",
    "combined = pd.concat([train_labels, test_labels])\n",
    "\n",
    "plt.figure(figsize=(7,5))\n",
    "sns.barplot(data=combined, x='Dataset', y='Jumlah', hue='Label', palette='coolwarm')\n",
    "plt.title('Distribusi Label (Pass vs Fail) pada Data Training dan Testing')\n",
    "plt.ylabel('Jumlah Mahasiswa')\n",
    "plt.xlabel('')\n",
    "plt.legend(title='Label')\n",
    "plt.grid(axis='y', linestyle='-', alpha=0.6)\n",
    "plt.show()\n",
    "\n",
    "print(\"Distribusi data training:\")\n",
    "print(y_train_new.value_counts(normalize=True))\n",
    "print(\"\\nDistribusi data testing:\")\n",
    "print(y_test_new.value_counts(normalize=True))"
   ]
  },
  {
   "cell_type": "markdown",
   "id": "eec2af36",
   "metadata": {},
   "source": [
    "**Keterangan :**\n",
    "\n",
    "- 0 -> Fail\n",
    "- 1 -> Pass\n",
    "\n",
    "---"
   ]
  },
  {
   "cell_type": "markdown",
   "id": "5af1a304",
   "metadata": {},
   "source": [
    "#### 3e. Use a classification algorithm (free to use one)"
   ]
  },
  {
   "cell_type": "markdown",
   "id": "6a934edc",
   "metadata": {},
   "source": [
    "Menggunakan Algoritma `Decision Tree Classifier`"
   ]
  },
  {
   "cell_type": "code",
   "execution_count": 50,
   "id": "7c2b5159",
   "metadata": {},
   "outputs": [
    {
     "data": {
      "text/html": [
       "<style>#sk-container-id-2 {\n",
       "  /* Definition of color scheme common for light and dark mode */\n",
       "  --sklearn-color-text: #000;\n",
       "  --sklearn-color-text-muted: #666;\n",
       "  --sklearn-color-line: gray;\n",
       "  /* Definition of color scheme for unfitted estimators */\n",
       "  --sklearn-color-unfitted-level-0: #fff5e6;\n",
       "  --sklearn-color-unfitted-level-1: #f6e4d2;\n",
       "  --sklearn-color-unfitted-level-2: #ffe0b3;\n",
       "  --sklearn-color-unfitted-level-3: chocolate;\n",
       "  /* Definition of color scheme for fitted estimators */\n",
       "  --sklearn-color-fitted-level-0: #f0f8ff;\n",
       "  --sklearn-color-fitted-level-1: #d4ebff;\n",
       "  --sklearn-color-fitted-level-2: #b3dbfd;\n",
       "  --sklearn-color-fitted-level-3: cornflowerblue;\n",
       "\n",
       "  /* Specific color for light theme */\n",
       "  --sklearn-color-text-on-default-background: var(--sg-text-color, var(--theme-code-foreground, var(--jp-content-font-color1, black)));\n",
       "  --sklearn-color-background: var(--sg-background-color, var(--theme-background, var(--jp-layout-color0, white)));\n",
       "  --sklearn-color-border-box: var(--sg-text-color, var(--theme-code-foreground, var(--jp-content-font-color1, black)));\n",
       "  --sklearn-color-icon: #696969;\n",
       "\n",
       "  @media (prefers-color-scheme: dark) {\n",
       "    /* Redefinition of color scheme for dark theme */\n",
       "    --sklearn-color-text-on-default-background: var(--sg-text-color, var(--theme-code-foreground, var(--jp-content-font-color1, white)));\n",
       "    --sklearn-color-background: var(--sg-background-color, var(--theme-background, var(--jp-layout-color0, #111)));\n",
       "    --sklearn-color-border-box: var(--sg-text-color, var(--theme-code-foreground, var(--jp-content-font-color1, white)));\n",
       "    --sklearn-color-icon: #878787;\n",
       "  }\n",
       "}\n",
       "\n",
       "#sk-container-id-2 {\n",
       "  color: var(--sklearn-color-text);\n",
       "}\n",
       "\n",
       "#sk-container-id-2 pre {\n",
       "  padding: 0;\n",
       "}\n",
       "\n",
       "#sk-container-id-2 input.sk-hidden--visually {\n",
       "  border: 0;\n",
       "  clip: rect(1px 1px 1px 1px);\n",
       "  clip: rect(1px, 1px, 1px, 1px);\n",
       "  height: 1px;\n",
       "  margin: -1px;\n",
       "  overflow: hidden;\n",
       "  padding: 0;\n",
       "  position: absolute;\n",
       "  width: 1px;\n",
       "}\n",
       "\n",
       "#sk-container-id-2 div.sk-dashed-wrapped {\n",
       "  border: 1px dashed var(--sklearn-color-line);\n",
       "  margin: 0 0.4em 0.5em 0.4em;\n",
       "  box-sizing: border-box;\n",
       "  padding-bottom: 0.4em;\n",
       "  background-color: var(--sklearn-color-background);\n",
       "}\n",
       "\n",
       "#sk-container-id-2 div.sk-container {\n",
       "  /* jupyter's `normalize.less` sets `[hidden] { display: none; }`\n",
       "     but bootstrap.min.css set `[hidden] { display: none !important; }`\n",
       "     so we also need the `!important` here to be able to override the\n",
       "     default hidden behavior on the sphinx rendered scikit-learn.org.\n",
       "     See: https://github.com/scikit-learn/scikit-learn/issues/21755 */\n",
       "  display: inline-block !important;\n",
       "  position: relative;\n",
       "}\n",
       "\n",
       "#sk-container-id-2 div.sk-text-repr-fallback {\n",
       "  display: none;\n",
       "}\n",
       "\n",
       "div.sk-parallel-item,\n",
       "div.sk-serial,\n",
       "div.sk-item {\n",
       "  /* draw centered vertical line to link estimators */\n",
       "  background-image: linear-gradient(var(--sklearn-color-text-on-default-background), var(--sklearn-color-text-on-default-background));\n",
       "  background-size: 2px 100%;\n",
       "  background-repeat: no-repeat;\n",
       "  background-position: center center;\n",
       "}\n",
       "\n",
       "/* Parallel-specific style estimator block */\n",
       "\n",
       "#sk-container-id-2 div.sk-parallel-item::after {\n",
       "  content: \"\";\n",
       "  width: 100%;\n",
       "  border-bottom: 2px solid var(--sklearn-color-text-on-default-background);\n",
       "  flex-grow: 1;\n",
       "}\n",
       "\n",
       "#sk-container-id-2 div.sk-parallel {\n",
       "  display: flex;\n",
       "  align-items: stretch;\n",
       "  justify-content: center;\n",
       "  background-color: var(--sklearn-color-background);\n",
       "  position: relative;\n",
       "}\n",
       "\n",
       "#sk-container-id-2 div.sk-parallel-item {\n",
       "  display: flex;\n",
       "  flex-direction: column;\n",
       "}\n",
       "\n",
       "#sk-container-id-2 div.sk-parallel-item:first-child::after {\n",
       "  align-self: flex-end;\n",
       "  width: 50%;\n",
       "}\n",
       "\n",
       "#sk-container-id-2 div.sk-parallel-item:last-child::after {\n",
       "  align-self: flex-start;\n",
       "  width: 50%;\n",
       "}\n",
       "\n",
       "#sk-container-id-2 div.sk-parallel-item:only-child::after {\n",
       "  width: 0;\n",
       "}\n",
       "\n",
       "/* Serial-specific style estimator block */\n",
       "\n",
       "#sk-container-id-2 div.sk-serial {\n",
       "  display: flex;\n",
       "  flex-direction: column;\n",
       "  align-items: center;\n",
       "  background-color: var(--sklearn-color-background);\n",
       "  padding-right: 1em;\n",
       "  padding-left: 1em;\n",
       "}\n",
       "\n",
       "\n",
       "/* Toggleable style: style used for estimator/Pipeline/ColumnTransformer box that is\n",
       "clickable and can be expanded/collapsed.\n",
       "- Pipeline and ColumnTransformer use this feature and define the default style\n",
       "- Estimators will overwrite some part of the style using the `sk-estimator` class\n",
       "*/\n",
       "\n",
       "/* Pipeline and ColumnTransformer style (default) */\n",
       "\n",
       "#sk-container-id-2 div.sk-toggleable {\n",
       "  /* Default theme specific background. It is overwritten whether we have a\n",
       "  specific estimator or a Pipeline/ColumnTransformer */\n",
       "  background-color: var(--sklearn-color-background);\n",
       "}\n",
       "\n",
       "/* Toggleable label */\n",
       "#sk-container-id-2 label.sk-toggleable__label {\n",
       "  cursor: pointer;\n",
       "  display: flex;\n",
       "  width: 100%;\n",
       "  margin-bottom: 0;\n",
       "  padding: 0.5em;\n",
       "  box-sizing: border-box;\n",
       "  text-align: center;\n",
       "  align-items: start;\n",
       "  justify-content: space-between;\n",
       "  gap: 0.5em;\n",
       "}\n",
       "\n",
       "#sk-container-id-2 label.sk-toggleable__label .caption {\n",
       "  font-size: 0.6rem;\n",
       "  font-weight: lighter;\n",
       "  color: var(--sklearn-color-text-muted);\n",
       "}\n",
       "\n",
       "#sk-container-id-2 label.sk-toggleable__label-arrow:before {\n",
       "  /* Arrow on the left of the label */\n",
       "  content: \"▸\";\n",
       "  float: left;\n",
       "  margin-right: 0.25em;\n",
       "  color: var(--sklearn-color-icon);\n",
       "}\n",
       "\n",
       "#sk-container-id-2 label.sk-toggleable__label-arrow:hover:before {\n",
       "  color: var(--sklearn-color-text);\n",
       "}\n",
       "\n",
       "/* Toggleable content - dropdown */\n",
       "\n",
       "#sk-container-id-2 div.sk-toggleable__content {\n",
       "  display: none;\n",
       "  text-align: left;\n",
       "  /* unfitted */\n",
       "  background-color: var(--sklearn-color-unfitted-level-0);\n",
       "}\n",
       "\n",
       "#sk-container-id-2 div.sk-toggleable__content.fitted {\n",
       "  /* fitted */\n",
       "  background-color: var(--sklearn-color-fitted-level-0);\n",
       "}\n",
       "\n",
       "#sk-container-id-2 div.sk-toggleable__content pre {\n",
       "  margin: 0.2em;\n",
       "  border-radius: 0.25em;\n",
       "  color: var(--sklearn-color-text);\n",
       "  /* unfitted */\n",
       "  background-color: var(--sklearn-color-unfitted-level-0);\n",
       "}\n",
       "\n",
       "#sk-container-id-2 div.sk-toggleable__content.fitted pre {\n",
       "  /* unfitted */\n",
       "  background-color: var(--sklearn-color-fitted-level-0);\n",
       "}\n",
       "\n",
       "#sk-container-id-2 input.sk-toggleable__control:checked~div.sk-toggleable__content {\n",
       "  /* Expand drop-down */\n",
       "  display: block;\n",
       "  width: 100%;\n",
       "  overflow: visible;\n",
       "}\n",
       "\n",
       "#sk-container-id-2 input.sk-toggleable__control:checked~label.sk-toggleable__label-arrow:before {\n",
       "  content: \"▾\";\n",
       "}\n",
       "\n",
       "/* Pipeline/ColumnTransformer-specific style */\n",
       "\n",
       "#sk-container-id-2 div.sk-label input.sk-toggleable__control:checked~label.sk-toggleable__label {\n",
       "  color: var(--sklearn-color-text);\n",
       "  background-color: var(--sklearn-color-unfitted-level-2);\n",
       "}\n",
       "\n",
       "#sk-container-id-2 div.sk-label.fitted input.sk-toggleable__control:checked~label.sk-toggleable__label {\n",
       "  background-color: var(--sklearn-color-fitted-level-2);\n",
       "}\n",
       "\n",
       "/* Estimator-specific style */\n",
       "\n",
       "/* Colorize estimator box */\n",
       "#sk-container-id-2 div.sk-estimator input.sk-toggleable__control:checked~label.sk-toggleable__label {\n",
       "  /* unfitted */\n",
       "  background-color: var(--sklearn-color-unfitted-level-2);\n",
       "}\n",
       "\n",
       "#sk-container-id-2 div.sk-estimator.fitted input.sk-toggleable__control:checked~label.sk-toggleable__label {\n",
       "  /* fitted */\n",
       "  background-color: var(--sklearn-color-fitted-level-2);\n",
       "}\n",
       "\n",
       "#sk-container-id-2 div.sk-label label.sk-toggleable__label,\n",
       "#sk-container-id-2 div.sk-label label {\n",
       "  /* The background is the default theme color */\n",
       "  color: var(--sklearn-color-text-on-default-background);\n",
       "}\n",
       "\n",
       "/* On hover, darken the color of the background */\n",
       "#sk-container-id-2 div.sk-label:hover label.sk-toggleable__label {\n",
       "  color: var(--sklearn-color-text);\n",
       "  background-color: var(--sklearn-color-unfitted-level-2);\n",
       "}\n",
       "\n",
       "/* Label box, darken color on hover, fitted */\n",
       "#sk-container-id-2 div.sk-label.fitted:hover label.sk-toggleable__label.fitted {\n",
       "  color: var(--sklearn-color-text);\n",
       "  background-color: var(--sklearn-color-fitted-level-2);\n",
       "}\n",
       "\n",
       "/* Estimator label */\n",
       "\n",
       "#sk-container-id-2 div.sk-label label {\n",
       "  font-family: monospace;\n",
       "  font-weight: bold;\n",
       "  display: inline-block;\n",
       "  line-height: 1.2em;\n",
       "}\n",
       "\n",
       "#sk-container-id-2 div.sk-label-container {\n",
       "  text-align: center;\n",
       "}\n",
       "\n",
       "/* Estimator-specific */\n",
       "#sk-container-id-2 div.sk-estimator {\n",
       "  font-family: monospace;\n",
       "  border: 1px dotted var(--sklearn-color-border-box);\n",
       "  border-radius: 0.25em;\n",
       "  box-sizing: border-box;\n",
       "  margin-bottom: 0.5em;\n",
       "  /* unfitted */\n",
       "  background-color: var(--sklearn-color-unfitted-level-0);\n",
       "}\n",
       "\n",
       "#sk-container-id-2 div.sk-estimator.fitted {\n",
       "  /* fitted */\n",
       "  background-color: var(--sklearn-color-fitted-level-0);\n",
       "}\n",
       "\n",
       "/* on hover */\n",
       "#sk-container-id-2 div.sk-estimator:hover {\n",
       "  /* unfitted */\n",
       "  background-color: var(--sklearn-color-unfitted-level-2);\n",
       "}\n",
       "\n",
       "#sk-container-id-2 div.sk-estimator.fitted:hover {\n",
       "  /* fitted */\n",
       "  background-color: var(--sklearn-color-fitted-level-2);\n",
       "}\n",
       "\n",
       "/* Specification for estimator info (e.g. \"i\" and \"?\") */\n",
       "\n",
       "/* Common style for \"i\" and \"?\" */\n",
       "\n",
       ".sk-estimator-doc-link,\n",
       "a:link.sk-estimator-doc-link,\n",
       "a:visited.sk-estimator-doc-link {\n",
       "  float: right;\n",
       "  font-size: smaller;\n",
       "  line-height: 1em;\n",
       "  font-family: monospace;\n",
       "  background-color: var(--sklearn-color-background);\n",
       "  border-radius: 1em;\n",
       "  height: 1em;\n",
       "  width: 1em;\n",
       "  text-decoration: none !important;\n",
       "  margin-left: 0.5em;\n",
       "  text-align: center;\n",
       "  /* unfitted */\n",
       "  border: var(--sklearn-color-unfitted-level-1) 1pt solid;\n",
       "  color: var(--sklearn-color-unfitted-level-1);\n",
       "}\n",
       "\n",
       ".sk-estimator-doc-link.fitted,\n",
       "a:link.sk-estimator-doc-link.fitted,\n",
       "a:visited.sk-estimator-doc-link.fitted {\n",
       "  /* fitted */\n",
       "  border: var(--sklearn-color-fitted-level-1) 1pt solid;\n",
       "  color: var(--sklearn-color-fitted-level-1);\n",
       "}\n",
       "\n",
       "/* On hover */\n",
       "div.sk-estimator:hover .sk-estimator-doc-link:hover,\n",
       ".sk-estimator-doc-link:hover,\n",
       "div.sk-label-container:hover .sk-estimator-doc-link:hover,\n",
       ".sk-estimator-doc-link:hover {\n",
       "  /* unfitted */\n",
       "  background-color: var(--sklearn-color-unfitted-level-3);\n",
       "  color: var(--sklearn-color-background);\n",
       "  text-decoration: none;\n",
       "}\n",
       "\n",
       "div.sk-estimator.fitted:hover .sk-estimator-doc-link.fitted:hover,\n",
       ".sk-estimator-doc-link.fitted:hover,\n",
       "div.sk-label-container:hover .sk-estimator-doc-link.fitted:hover,\n",
       ".sk-estimator-doc-link.fitted:hover {\n",
       "  /* fitted */\n",
       "  background-color: var(--sklearn-color-fitted-level-3);\n",
       "  color: var(--sklearn-color-background);\n",
       "  text-decoration: none;\n",
       "}\n",
       "\n",
       "/* Span, style for the box shown on hovering the info icon */\n",
       ".sk-estimator-doc-link span {\n",
       "  display: none;\n",
       "  z-index: 9999;\n",
       "  position: relative;\n",
       "  font-weight: normal;\n",
       "  right: .2ex;\n",
       "  padding: .5ex;\n",
       "  margin: .5ex;\n",
       "  width: min-content;\n",
       "  min-width: 20ex;\n",
       "  max-width: 50ex;\n",
       "  color: var(--sklearn-color-text);\n",
       "  box-shadow: 2pt 2pt 4pt #999;\n",
       "  /* unfitted */\n",
       "  background: var(--sklearn-color-unfitted-level-0);\n",
       "  border: .5pt solid var(--sklearn-color-unfitted-level-3);\n",
       "}\n",
       "\n",
       ".sk-estimator-doc-link.fitted span {\n",
       "  /* fitted */\n",
       "  background: var(--sklearn-color-fitted-level-0);\n",
       "  border: var(--sklearn-color-fitted-level-3);\n",
       "}\n",
       "\n",
       ".sk-estimator-doc-link:hover span {\n",
       "  display: block;\n",
       "}\n",
       "\n",
       "/* \"?\"-specific style due to the `<a>` HTML tag */\n",
       "\n",
       "#sk-container-id-2 a.estimator_doc_link {\n",
       "  float: right;\n",
       "  font-size: 1rem;\n",
       "  line-height: 1em;\n",
       "  font-family: monospace;\n",
       "  background-color: var(--sklearn-color-background);\n",
       "  border-radius: 1rem;\n",
       "  height: 1rem;\n",
       "  width: 1rem;\n",
       "  text-decoration: none;\n",
       "  /* unfitted */\n",
       "  color: var(--sklearn-color-unfitted-level-1);\n",
       "  border: var(--sklearn-color-unfitted-level-1) 1pt solid;\n",
       "}\n",
       "\n",
       "#sk-container-id-2 a.estimator_doc_link.fitted {\n",
       "  /* fitted */\n",
       "  border: var(--sklearn-color-fitted-level-1) 1pt solid;\n",
       "  color: var(--sklearn-color-fitted-level-1);\n",
       "}\n",
       "\n",
       "/* On hover */\n",
       "#sk-container-id-2 a.estimator_doc_link:hover {\n",
       "  /* unfitted */\n",
       "  background-color: var(--sklearn-color-unfitted-level-3);\n",
       "  color: var(--sklearn-color-background);\n",
       "  text-decoration: none;\n",
       "}\n",
       "\n",
       "#sk-container-id-2 a.estimator_doc_link.fitted:hover {\n",
       "  /* fitted */\n",
       "  background-color: var(--sklearn-color-fitted-level-3);\n",
       "}\n",
       "\n",
       ".estimator-table summary {\n",
       "    padding: .5rem;\n",
       "    font-family: monospace;\n",
       "    cursor: pointer;\n",
       "}\n",
       "\n",
       ".estimator-table details[open] {\n",
       "    padding-left: 0.1rem;\n",
       "    padding-right: 0.1rem;\n",
       "    padding-bottom: 0.3rem;\n",
       "}\n",
       "\n",
       ".estimator-table .parameters-table {\n",
       "    margin-left: auto !important;\n",
       "    margin-right: auto !important;\n",
       "}\n",
       "\n",
       ".estimator-table .parameters-table tr:nth-child(odd) {\n",
       "    background-color: #fff;\n",
       "}\n",
       "\n",
       ".estimator-table .parameters-table tr:nth-child(even) {\n",
       "    background-color: #f6f6f6;\n",
       "}\n",
       "\n",
       ".estimator-table .parameters-table tr:hover {\n",
       "    background-color: #e0e0e0;\n",
       "}\n",
       "\n",
       ".estimator-table table td {\n",
       "    border: 1px solid rgba(106, 105, 104, 0.232);\n",
       "}\n",
       "\n",
       ".user-set td {\n",
       "    color:rgb(255, 94, 0);\n",
       "    text-align: left;\n",
       "}\n",
       "\n",
       ".user-set td.value pre {\n",
       "    color:rgb(255, 94, 0) !important;\n",
       "    background-color: transparent !important;\n",
       "}\n",
       "\n",
       ".default td {\n",
       "    color: black;\n",
       "    text-align: left;\n",
       "}\n",
       "\n",
       ".user-set td i,\n",
       ".default td i {\n",
       "    color: black;\n",
       "}\n",
       "\n",
       ".copy-paste-icon {\n",
       "    background-image: url(data:image/svg+xml;base64,PHN2ZyB4bWxucz0iaHR0cDovL3d3dy53My5vcmcvMjAwMC9zdmciIHZpZXdCb3g9IjAgMCA0NDggNTEyIj48IS0tIUZvbnQgQXdlc29tZSBGcmVlIDYuNy4yIGJ5IEBmb250YXdlc29tZSAtIGh0dHBzOi8vZm9udGF3ZXNvbWUuY29tIExpY2Vuc2UgLSBodHRwczovL2ZvbnRhd2Vzb21lLmNvbS9saWNlbnNlL2ZyZWUgQ29weXJpZ2h0IDIwMjUgRm9udGljb25zLCBJbmMuLS0+PHBhdGggZD0iTTIwOCAwTDMzMi4xIDBjMTIuNyAwIDI0LjkgNS4xIDMzLjkgMTQuMWw2Ny45IDY3LjljOSA5IDE0LjEgMjEuMiAxNC4xIDMzLjlMNDQ4IDMzNmMwIDI2LjUtMjEuNSA0OC00OCA0OGwtMTkyIDBjLTI2LjUgMC00OC0yMS41LTQ4LTQ4bDAtMjg4YzAtMjYuNSAyMS41LTQ4IDQ4LTQ4ek00OCAxMjhsODAgMCAwIDY0LTY0IDAgMCAyNTYgMTkyIDAgMC0zMiA2NCAwIDAgNDhjMCAyNi41LTIxLjUgNDgtNDggNDhMNDggNTEyYy0yNi41IDAtNDgtMjEuNS00OC00OEwwIDE3NmMwLTI2LjUgMjEuNS00OCA0OC00OHoiLz48L3N2Zz4=);\n",
       "    background-repeat: no-repeat;\n",
       "    background-size: 14px 14px;\n",
       "    background-position: 0;\n",
       "    display: inline-block;\n",
       "    width: 14px;\n",
       "    height: 14px;\n",
       "    cursor: pointer;\n",
       "}\n",
       "</style><body><div id=\"sk-container-id-2\" class=\"sk-top-container\"><div class=\"sk-text-repr-fallback\"><pre>DecisionTreeClassifier(criterion=&#x27;entropy&#x27;, max_depth=5, random_state=42)</pre><b>In a Jupyter environment, please rerun this cell to show the HTML representation or trust the notebook. <br />On GitHub, the HTML representation is unable to render, please try loading this page with nbviewer.org.</b></div><div class=\"sk-container\" hidden><div class=\"sk-item\"><div class=\"sk-estimator fitted sk-toggleable\"><input class=\"sk-toggleable__control sk-hidden--visually\" id=\"sk-estimator-id-2\" type=\"checkbox\" checked><label for=\"sk-estimator-id-2\" class=\"sk-toggleable__label fitted sk-toggleable__label-arrow\"><div><div>DecisionTreeClassifier</div></div><div><a class=\"sk-estimator-doc-link fitted\" rel=\"noreferrer\" target=\"_blank\" href=\"https://scikit-learn.org/1.7/modules/generated/sklearn.tree.DecisionTreeClassifier.html\">?<span>Documentation for DecisionTreeClassifier</span></a><span class=\"sk-estimator-doc-link fitted\">i<span>Fitted</span></span></div></label><div class=\"sk-toggleable__content fitted\" data-param-prefix=\"\">\n",
       "        <div class=\"estimator-table\">\n",
       "            <details>\n",
       "                <summary>Parameters</summary>\n",
       "                <table class=\"parameters-table\">\n",
       "                  <tbody>\n",
       "                    \n",
       "        <tr class=\"user-set\">\n",
       "            <td><i class=\"copy-paste-icon\"\n",
       "                 onclick=\"copyToClipboard('criterion',\n",
       "                          this.parentElement.nextElementSibling)\"\n",
       "            ></i></td>\n",
       "            <td class=\"param\">criterion&nbsp;</td>\n",
       "            <td class=\"value\">&#x27;entropy&#x27;</td>\n",
       "        </tr>\n",
       "    \n",
       "\n",
       "        <tr class=\"default\">\n",
       "            <td><i class=\"copy-paste-icon\"\n",
       "                 onclick=\"copyToClipboard('splitter',\n",
       "                          this.parentElement.nextElementSibling)\"\n",
       "            ></i></td>\n",
       "            <td class=\"param\">splitter&nbsp;</td>\n",
       "            <td class=\"value\">&#x27;best&#x27;</td>\n",
       "        </tr>\n",
       "    \n",
       "\n",
       "        <tr class=\"user-set\">\n",
       "            <td><i class=\"copy-paste-icon\"\n",
       "                 onclick=\"copyToClipboard('max_depth',\n",
       "                          this.parentElement.nextElementSibling)\"\n",
       "            ></i></td>\n",
       "            <td class=\"param\">max_depth&nbsp;</td>\n",
       "            <td class=\"value\">5</td>\n",
       "        </tr>\n",
       "    \n",
       "\n",
       "        <tr class=\"default\">\n",
       "            <td><i class=\"copy-paste-icon\"\n",
       "                 onclick=\"copyToClipboard('min_samples_split',\n",
       "                          this.parentElement.nextElementSibling)\"\n",
       "            ></i></td>\n",
       "            <td class=\"param\">min_samples_split&nbsp;</td>\n",
       "            <td class=\"value\">2</td>\n",
       "        </tr>\n",
       "    \n",
       "\n",
       "        <tr class=\"default\">\n",
       "            <td><i class=\"copy-paste-icon\"\n",
       "                 onclick=\"copyToClipboard('min_samples_leaf',\n",
       "                          this.parentElement.nextElementSibling)\"\n",
       "            ></i></td>\n",
       "            <td class=\"param\">min_samples_leaf&nbsp;</td>\n",
       "            <td class=\"value\">1</td>\n",
       "        </tr>\n",
       "    \n",
       "\n",
       "        <tr class=\"default\">\n",
       "            <td><i class=\"copy-paste-icon\"\n",
       "                 onclick=\"copyToClipboard('min_weight_fraction_leaf',\n",
       "                          this.parentElement.nextElementSibling)\"\n",
       "            ></i></td>\n",
       "            <td class=\"param\">min_weight_fraction_leaf&nbsp;</td>\n",
       "            <td class=\"value\">0.0</td>\n",
       "        </tr>\n",
       "    \n",
       "\n",
       "        <tr class=\"default\">\n",
       "            <td><i class=\"copy-paste-icon\"\n",
       "                 onclick=\"copyToClipboard('max_features',\n",
       "                          this.parentElement.nextElementSibling)\"\n",
       "            ></i></td>\n",
       "            <td class=\"param\">max_features&nbsp;</td>\n",
       "            <td class=\"value\">None</td>\n",
       "        </tr>\n",
       "    \n",
       "\n",
       "        <tr class=\"user-set\">\n",
       "            <td><i class=\"copy-paste-icon\"\n",
       "                 onclick=\"copyToClipboard('random_state',\n",
       "                          this.parentElement.nextElementSibling)\"\n",
       "            ></i></td>\n",
       "            <td class=\"param\">random_state&nbsp;</td>\n",
       "            <td class=\"value\">42</td>\n",
       "        </tr>\n",
       "    \n",
       "\n",
       "        <tr class=\"default\">\n",
       "            <td><i class=\"copy-paste-icon\"\n",
       "                 onclick=\"copyToClipboard('max_leaf_nodes',\n",
       "                          this.parentElement.nextElementSibling)\"\n",
       "            ></i></td>\n",
       "            <td class=\"param\">max_leaf_nodes&nbsp;</td>\n",
       "            <td class=\"value\">None</td>\n",
       "        </tr>\n",
       "    \n",
       "\n",
       "        <tr class=\"default\">\n",
       "            <td><i class=\"copy-paste-icon\"\n",
       "                 onclick=\"copyToClipboard('min_impurity_decrease',\n",
       "                          this.parentElement.nextElementSibling)\"\n",
       "            ></i></td>\n",
       "            <td class=\"param\">min_impurity_decrease&nbsp;</td>\n",
       "            <td class=\"value\">0.0</td>\n",
       "        </tr>\n",
       "    \n",
       "\n",
       "        <tr class=\"default\">\n",
       "            <td><i class=\"copy-paste-icon\"\n",
       "                 onclick=\"copyToClipboard('class_weight',\n",
       "                          this.parentElement.nextElementSibling)\"\n",
       "            ></i></td>\n",
       "            <td class=\"param\">class_weight&nbsp;</td>\n",
       "            <td class=\"value\">None</td>\n",
       "        </tr>\n",
       "    \n",
       "\n",
       "        <tr class=\"default\">\n",
       "            <td><i class=\"copy-paste-icon\"\n",
       "                 onclick=\"copyToClipboard('ccp_alpha',\n",
       "                          this.parentElement.nextElementSibling)\"\n",
       "            ></i></td>\n",
       "            <td class=\"param\">ccp_alpha&nbsp;</td>\n",
       "            <td class=\"value\">0.0</td>\n",
       "        </tr>\n",
       "    \n",
       "\n",
       "        <tr class=\"default\">\n",
       "            <td><i class=\"copy-paste-icon\"\n",
       "                 onclick=\"copyToClipboard('monotonic_cst',\n",
       "                          this.parentElement.nextElementSibling)\"\n",
       "            ></i></td>\n",
       "            <td class=\"param\">monotonic_cst&nbsp;</td>\n",
       "            <td class=\"value\">None</td>\n",
       "        </tr>\n",
       "    \n",
       "                  </tbody>\n",
       "                </table>\n",
       "            </details>\n",
       "        </div>\n",
       "    </div></div></div></div></div><script>function copyToClipboard(text, element) {\n",
       "    // Get the parameter prefix from the closest toggleable content\n",
       "    const toggleableContent = element.closest('.sk-toggleable__content');\n",
       "    const paramPrefix = toggleableContent ? toggleableContent.dataset.paramPrefix : '';\n",
       "    const fullParamName = paramPrefix ? `${paramPrefix}${text}` : text;\n",
       "\n",
       "    const originalStyle = element.style;\n",
       "    const computedStyle = window.getComputedStyle(element);\n",
       "    const originalWidth = computedStyle.width;\n",
       "    const originalHTML = element.innerHTML.replace('Copied!', '');\n",
       "\n",
       "    navigator.clipboard.writeText(fullParamName)\n",
       "        .then(() => {\n",
       "            element.style.width = originalWidth;\n",
       "            element.style.color = 'green';\n",
       "            element.innerHTML = \"Copied!\";\n",
       "\n",
       "            setTimeout(() => {\n",
       "                element.innerHTML = originalHTML;\n",
       "                element.style = originalStyle;\n",
       "            }, 2000);\n",
       "        })\n",
       "        .catch(err => {\n",
       "            console.error('Failed to copy:', err);\n",
       "            element.style.color = 'red';\n",
       "            element.innerHTML = \"Failed!\";\n",
       "            setTimeout(() => {\n",
       "                element.innerHTML = originalHTML;\n",
       "                element.style = originalStyle;\n",
       "            }, 2000);\n",
       "        });\n",
       "    return false;\n",
       "}\n",
       "\n",
       "document.querySelectorAll('.fa-regular.fa-copy').forEach(function(element) {\n",
       "    const toggleableContent = element.closest('.sk-toggleable__content');\n",
       "    const paramPrefix = toggleableContent ? toggleableContent.dataset.paramPrefix : '';\n",
       "    const paramName = element.parentElement.nextElementSibling.textContent.trim();\n",
       "    const fullParamName = paramPrefix ? `${paramPrefix}${paramName}` : paramName;\n",
       "\n",
       "    element.setAttribute('title', fullParamName);\n",
       "});\n",
       "</script></body>"
      ],
      "text/plain": [
       "DecisionTreeClassifier(criterion='entropy', max_depth=5, random_state=42)"
      ]
     },
     "execution_count": 50,
     "metadata": {},
     "output_type": "execute_result"
    }
   ],
   "source": [
    "from sklearn.tree import DecisionTreeClassifier\n",
    "\n",
    "model_new = DecisionTreeClassifier(\n",
    "    criterion='entropy',\n",
    "    random_state=42,\n",
    "    max_depth=5\n",
    ")\n",
    "\n",
    "model_new.fit(X_train_new, y_train_new)"
   ]
  },
  {
   "cell_type": "code",
   "execution_count": 51,
   "id": "d8c759ce",
   "metadata": {},
   "outputs": [],
   "source": [
    "y_pred_new = model_new.predict(X_test_new)"
   ]
  },
  {
   "cell_type": "markdown",
   "id": "ba13edf6",
   "metadata": {},
   "source": [
    "#### 3f. Perform model evaluation"
   ]
  },
  {
   "cell_type": "markdown",
   "id": "0cf6d410",
   "metadata": {},
   "source": [
    "1. Accuracy Score dan Clasification Report"
   ]
  },
  {
   "cell_type": "code",
   "execution_count": 52,
   "id": "91d0d403",
   "metadata": {},
   "outputs": [
    {
     "name": "stdout",
     "output_type": "stream",
     "text": [
      "Accuracy Score: 1.0\n",
      "\n",
      "Classification Report:\n",
      "               precision    recall  f1-score   support\n",
      "\n",
      "        Fail       1.00      1.00      1.00       177\n",
      "        Pass       1.00      1.00      1.00        54\n",
      "\n",
      "    accuracy                           1.00       231\n",
      "   macro avg       1.00      1.00      1.00       231\n",
      "weighted avg       1.00      1.00      1.00       231\n",
      "\n"
     ]
    }
   ],
   "source": [
    "from sklearn.metrics import accuracy_score, classification_report\n",
    "\n",
    "accuracy_score_new = accuracy_score(y_test_new, y_pred_new)\n",
    "classification_report_new = classification_report(y_test_new, y_pred_new, \n",
    "                                                  target_names=['Fail', 'Pass'])\n",
    "\n",
    "print(\"Accuracy Score:\", accuracy_score_new)\n",
    "print(\"\\nClassification Report:\\n\", classification_report_new)"
   ]
  },
  {
   "cell_type": "markdown",
   "id": "18fd0983",
   "metadata": {},
   "source": [
    "Penjelasan :\n",
    "\n",
    "- Hasil performa pemodelan menggunakan Decision Tree menunjukkan performa yang sempurna pada data pengujian, dengan akurasi dan semua metrik lainnya mencapai 1.00 (100%).\n",
    "\n",
    "- Artinya seluruh prediksi yang dibuat oleh model pada data testing adalah benar. Model tidak membuat satu pun kesalahan klasifikasi (Fail yang diprediksi Pass atau Pass yang diprediksi Fail).\n",
    "\n",
    "- Pada umumnya akurasi mencapai 100% menandakan potensi overfitting, namun jika dilihat pada case saat ini tidak overfitting karena adanya hubungan logis yang sangat kuat antara fitur (X) yang telah buat dan dengan target (y) labelnya. \n",
    "\n",
    "- Karena fitur (X) (kolom `Jml_Nilai_Fail dan SKS`) merupakan aturan yang sama dalam pembuatan `LABEL` (y) yang telah tetapkan, model algoritma Decision Tree dapat dengan mudah menemukan aturan pemisahan tersebut sehingga mencapai kinerja sempurna.\n",
    "\n",
    "- Aturan dalam pembuatan kolom label adalah total SKS minimal 144 atau lebih dan tidak ada Grade D,E,F. Logika dalam pembuatan kolom `Jml_Nilai_Fail` pun jika ada grade D, E, F maka otomatis langsung terhitung Fail. Logika antar kolom ini yang saling berhubungan membuat model menjadi mudah dalam menentukan mahasiswa tersebut Fail / Pass.\n",
    "\n",
    "---"
   ]
  },
  {
   "cell_type": "markdown",
   "id": "83ec5147",
   "metadata": {},
   "source": [
    "2. Visualisasi Pohon Keputusan"
   ]
  },
  {
   "cell_type": "code",
   "execution_count": 53,
   "id": "1c2ba944",
   "metadata": {},
   "outputs": [
    {
     "data": {
      "image/png": "[encoded data removed]",
      "text/plain": [
       "<Figure size 800x600 with 1 Axes>"
      ]
     },
     "metadata": {},
     "output_type": "display_data"
    }
   ],
   "source": [
    "from sklearn.tree import plot_tree\n",
    "\n",
    "feature_names = X_new.columns.tolist()\n",
    "class_names = ['Fail', 'Pass']\n",
    "\n",
    "plt.figure(figsize=(8,6))\n",
    "plot_tree(\n",
    "    model_new,\n",
    "    feature_names=feature_names,\n",
    "    class_names=class_names,\n",
    "    filled=True,\n",
    "    rounded=True,\n",
    "    fontsize=10\n",
    ")\n",
    "plt.title(\"Visualisasi Pohon Keputusan (Decision Tree)\", fontsize=14)\n",
    "plt.show()"
   ]
  },
  {
   "cell_type": "markdown",
   "id": "13739e31",
   "metadata": {},
   "source": [
    "Penjelasan :\n",
    "\n",
    "- Visualisasi pohon ini menjelaskan logika yang digunakan model untuk mencapai kinerja sempurna tersebut. \n",
    "- Model tersebut menemukan aturan pemisahan yang sama persis dengan kriteria kelulusan yang telah ditentukan. \n",
    "- Dapat dilihat juga dalam visualisasi, ternyata kolom yang baru dibuat yaitu `Jml_Nilai_Fail` ditemukan sebagai fitur pemisah yang paling penting dalam pemodelan.\n",
    "\n",
    "---"
   ]
  },
  {
   "cell_type": "markdown",
   "id": "2aa3377b",
   "metadata": {},
   "source": [
    "3. Confusion Matrix"
   ]
  },
  {
   "cell_type": "code",
   "execution_count": 54,
   "id": "8b03f8a7",
   "metadata": {},
   "outputs": [
    {
     "data": {
      "image/png": "[encoded data removed]",
      "text/plain": [
       "<Figure size 800x600 with 2 Axes>"
      ]
     },
     "metadata": {},
     "output_type": "display_data"
    }
   ],
   "source": [
    "from sklearn.metrics import confusion_matrix\n",
    "\n",
    "cm = confusion_matrix(y_test_new, y_pred_new)\n",
    "class_names = ['Fail', 'Pass']\n",
    "\n",
    "plt.figure(figsize=(8, 6))\n",
    "sns.heatmap(\n",
    "    cm,\n",
    "    annot=True,\n",
    "    fmt='d', \n",
    "    cmap='Blues',\n",
    "    xticklabels=class_names,\n",
    "    yticklabels=class_names\n",
    ")\n",
    "plt.xlabel('Prediksi Kelas')\n",
    "plt.ylabel('Kelas Aktual')\n",
    "plt.title('Confusion Matrix', fontsize=14)\n",
    "plt.show()"
   ]
  },
  {
   "cell_type": "markdown",
   "id": "791ae0e8",
   "metadata": {},
   "source": [
    "Penjelasan :\n",
    "\n",
    "- Berdasarkan hasil Confusion Matrix tersebut, model berhasil memprediksi semua data dengan benar, yaitu 177 data Fail dan 54 data Pass, tanpa ada kesalahan klasifikasi sama sekali. \n",
    "- Artinya, tidak terdapat False Positive maupun False Negative setelah menggunakan `Jml_Nilai_Fail`, sehingga model mencapai akurasi 100%.\n",
    "\n",
    "---"
   ]
  },
  {
   "cell_type": "markdown",
   "id": "8d294ba1",
   "metadata": {},
   "source": [
    "#### - Perbandingan Evaluasi Hasil Pemodelan `(Tambahan)`"
   ]
  },
  {
   "cell_type": "markdown",
   "id": "0deb5733",
   "metadata": {},
   "source": [
    "1. Accuracy Score"
   ]
  },
  {
   "cell_type": "code",
   "execution_count": 55,
   "id": "ae783968",
   "metadata": {},
   "outputs": [
    {
     "name": "stderr",
     "output_type": "stream",
     "text": [
      "C:\\Users\\JFKevin\\AppData\\Local\\Temp\\ipykernel_6716\\3582195823.py:9: FutureWarning: \n",
      "\n",
      "Passing `palette` without assigning `hue` is deprecated and will be removed in v0.14.0. Assign the `x` variable to `hue` and set `legend=False` for the same effect.\n",
      "\n",
      "  barplot = sns.barplot(\n"
     ]
    },
    {
     "data": {
      "image/png": "[encoded data removed]",
      "text/plain": [
       "<Figure size 700x700 with 1 Axes>"
      ]
     },
     "metadata": {},
     "output_type": "display_data"
    }
   ],
   "source": [
    "accuracy_model1 = accuracy_score(y_test, y_pred)\n",
    "accuracy_model2 = accuracy_score_new\n",
    "\n",
    "data = {'Model': ['Model 1: Hanya SKS','Model 2: SKS + Jml_Nilai_Fail'], \n",
    "        'Accuracy': [accuracy_model1, accuracy_model2]}\n",
    "df_accuracy = pd.DataFrame(data)\n",
    "\n",
    "plt.figure(figsize=(7, 7)) \n",
    "barplot = sns.barplot(\n",
    "    x='Model', \n",
    "    y='Accuracy', \n",
    "    data=df_accuracy, \n",
    "    palette=['#1f77b4', '#ff7f0e']\n",
    ")\n",
    "\n",
    "for p in barplot.patches:\n",
    "    barplot.annotate(\n",
    "        f'{p.get_height()*100:.2f}%',\n",
    "        (p.get_x() + p.get_width() / 2., p.get_height()), \n",
    "        ha = 'center', \n",
    "        va = 'center', \n",
    "        xytext = (0, 9),\n",
    "        textcoords = 'offset points',\n",
    "        fontsize=10,\n",
    "        fontweight='bold'\n",
    "    )\n",
    "\n",
    "plt.title('Perbandingan Akurasi Skor Model')\n",
    "plt.ylabel('Skor Akurasi (%)', fontsize=10)\n",
    "plt.xlabel('')\n",
    "plt.show()"
   ]
  },
  {
   "cell_type": "markdown",
   "id": "6a1ac2f4",
   "metadata": {},
   "source": [
    "2. Classification Report"
   ]
  },
  {
   "cell_type": "code",
   "execution_count": 56,
   "id": "ef0fe5b7",
   "metadata": {},
   "outputs": [
    {
     "name": "stdout",
     "output_type": "stream",
     "text": [
      "\n",
      "Model 1 (Hanya Menggunakan SKS) :\n",
      "               precision    recall  f1-score   support\n",
      "\n",
      "        Fail       0.96      0.71      0.81       177\n",
      "        Pass       0.49      0.91      0.63        54\n",
      "\n",
      "    accuracy                           0.75       231\n",
      "   macro avg       0.72      0.81      0.72       231\n",
      "weighted avg       0.85      0.75      0.77       231\n",
      "\n",
      "\n",
      "Model 2 (SKS + Jml_Nilai_Fail) :\n",
      "               precision    recall  f1-score   support\n",
      "\n",
      "        Fail       1.00      1.00      1.00       177\n",
      "        Pass       1.00      1.00      1.00        54\n",
      "\n",
      "    accuracy                           1.00       231\n",
      "   macro avg       1.00      1.00      1.00       231\n",
      "weighted avg       1.00      1.00      1.00       231\n",
      "\n"
     ]
    }
   ],
   "source": [
    "print(\"\\nModel 1 (Hanya Menggunakan SKS) :\\n\", classification_report(y_test, y_pred, target_names=['Fail', 'Pass']))\n",
    "print(\"\\nModel 2 (SKS + Jml_Nilai_Fail) :\\n\", classification_report_new)"
   ]
  },
  {
   "cell_type": "markdown",
   "id": "06ca883f",
   "metadata": {},
   "source": [
    "3. Confusion Matrix"
   ]
  },
  {
   "cell_type": "code",
   "execution_count": 57,
   "id": "1baf8411",
   "metadata": {},
   "outputs": [
    {
     "data": {
      "image/png": "[encoded data removed]",
      "text/plain": [
       "<Figure size 1600x600 with 4 Axes>"
      ]
     },
     "metadata": {},
     "output_type": "display_data"
    }
   ],
   "source": [
    "cm_model1 = confusion_matrix(y_test, y_pred)         \n",
    "cm_model2 = confusion_matrix(y_test_new, y_pred_new) \n",
    "class_names = le.classes_\n",
    "\n",
    "fig, axes = plt.subplots(1, 2, figsize=(16, 6))\n",
    "\n",
    "\n",
    "sns.heatmap(\n",
    "    cm_model1, annot=True, fmt='d', cmap='Blues',\n",
    "    xticklabels=class_names, yticklabels=class_names,\n",
    "    ax=axes[0]\n",
    ")\n",
    "axes[0].set_title('Model 1 (Hanya Menggunakan SKS)', fontsize=12, weight='bold')\n",
    "axes[0].set_xlabel('Prediksi Kelas')\n",
    "axes[0].set_ylabel('Kelas Aktual')\n",
    "\n",
    "sns.heatmap(\n",
    "    cm_model2, annot=True, fmt='d', cmap='Blues',\n",
    "    xticklabels=class_names, yticklabels=class_names,\n",
    "    ax=axes[1]\n",
    ")\n",
    "axes[1].set_title('Model 2 (SKS + Jml_Nilai_Fail)', fontsize=12, weight='bold')\n",
    "axes[1].set_xlabel('Prediksi Kelas')\n",
    "axes[1].set_ylabel('Kelas Aktual')\n",
    "\n",
    "plt.tight_layout() \n",
    "plt.show()"
   ]
  },
  {
   "cell_type": "markdown",
   "id": "110a9e6f",
   "metadata": {},
   "source": [
    "Penjelasan :\n",
    "\n",
    "- Setelah dilakukannya perbandingan evaluasi model `(Accuracy Score, Clasification Report, Confusion Matrix)`, kita bisa melihat perbedaan jelas antara 2 model yang telah dibangun. Model 1 hanya menggunakan SKS dalam fitur (X) membuat performa model dalam memprediksi menjadi terbatas karena hanya menentukan mahasiswa lolos atau tidak berdasarkan jumlah SKS saja, tanpa berdasarkan Grade, sehingga membuat model jadi tidak akurat (salah memprediksi). \n",
    "\n",
    "- Sedangkan model 2 dibangun menggunakan kolom SKS ditambah dengan kolom baru yang dibuat yaitu `Jml_Nilai_Fail` untuk mengetahui apakah ada/tidak Grade yang tidak lulus pada mahasiswa digunakan dalam fitur (X) menjadikannya kombinasi yang sempurna dalam membangun model untuk memprediksi kelulusan mahasiswa (Target / y). \n",
    "\n",
    "- Dalam model 2 juga ditemukan latar belakang, mengapa akurasi mencapai 100% dan tidak ada data yang salah prediksi. Karena antara fitur (X) yang berisikan `SKS dan Jml_Nilai_Fail` dan target (y) yang berisikan `LABEL` menunjukkan relasi atau hubungan yang kuat karena kolom SKS dan Jml_Nilai_Fail dibangun untuk menentukan kriteria kelulusan mahasiswa tersebut. Kolom LABEL pun klasifikasinya dibuat sesuai dengan kriteria kelulusan **(ada pada nomor 3c)**. Dengan adanya kombinasi tersebut membuat model menjadi mudah dalam memprediksi karena tidak hanya berdasarkan 1 kriteria saja.\n",
    "\n",
    "---"
   ]
  },
  {
   "cell_type": "markdown",
   "id": "714cebfb",
   "metadata": {},
   "source": [
    "Uji Coba Mengambil 10 Sampel Acak Dari Data Testing Untuk Prediksi"
   ]
  },
  {
   "cell_type": "code",
   "execution_count": 58,
   "id": "ef1ee217",
   "metadata": {},
   "outputs": [
    {
     "name": "stdout",
     "output_type": "stream",
     "text": [
      "10 Sampel Data Testing dengan Hasil Prediksi:\n"
     ]
    },
    {
     "data": {
      "text/html": [
       "<div>\n",
       "<style scoped>\n",
       "    .dataframe tbody tr th:only-of-type {\n",
       "        vertical-align: middle;\n",
       "    }\n",
       "\n",
       "    .dataframe tbody tr th {\n",
       "        vertical-align: top;\n",
       "    }\n",
       "\n",
       "    .dataframe thead th {\n",
       "        text-align: right;\n",
       "    }\n",
       "</style>\n",
       "<table border=\"1\" class=\"dataframe\">\n",
       "  <thead>\n",
       "    <tr style=\"text-align: right;\">\n",
       "      <th></th>\n",
       "      <th>SKS</th>\n",
       "      <th>Jml_Nilai_Fail</th>\n",
       "      <th>Label_Aktual</th>\n",
       "      <th>Label_Prediksi</th>\n",
       "    </tr>\n",
       "  </thead>\n",
       "  <tbody>\n",
       "    <tr>\n",
       "      <th>651</th>\n",
       "      <td>144</td>\n",
       "      <td>0</td>\n",
       "      <td>Pass</td>\n",
       "      <td>Pass</td>\n",
       "    </tr>\n",
       "    <tr>\n",
       "      <th>637</th>\n",
       "      <td>144</td>\n",
       "      <td>0</td>\n",
       "      <td>Pass</td>\n",
       "      <td>Pass</td>\n",
       "    </tr>\n",
       "    <tr>\n",
       "      <th>545</th>\n",
       "      <td>145</td>\n",
       "      <td>1</td>\n",
       "      <td>Fail</td>\n",
       "      <td>Fail</td>\n",
       "    </tr>\n",
       "    <tr>\n",
       "      <th>230</th>\n",
       "      <td>82</td>\n",
       "      <td>4</td>\n",
       "      <td>Fail</td>\n",
       "      <td>Fail</td>\n",
       "    </tr>\n",
       "    <tr>\n",
       "      <th>267</th>\n",
       "      <td>69</td>\n",
       "      <td>5</td>\n",
       "      <td>Fail</td>\n",
       "      <td>Fail</td>\n",
       "    </tr>\n",
       "    <tr>\n",
       "      <th>573</th>\n",
       "      <td>144</td>\n",
       "      <td>1</td>\n",
       "      <td>Fail</td>\n",
       "      <td>Fail</td>\n",
       "    </tr>\n",
       "    <tr>\n",
       "      <th>652</th>\n",
       "      <td>144</td>\n",
       "      <td>2</td>\n",
       "      <td>Fail</td>\n",
       "      <td>Fail</td>\n",
       "    </tr>\n",
       "    <tr>\n",
       "      <th>324</th>\n",
       "      <td>40</td>\n",
       "      <td>0</td>\n",
       "      <td>Fail</td>\n",
       "      <td>Fail</td>\n",
       "    </tr>\n",
       "    <tr>\n",
       "      <th>564</th>\n",
       "      <td>145</td>\n",
       "      <td>0</td>\n",
       "      <td>Pass</td>\n",
       "      <td>Pass</td>\n",
       "    </tr>\n",
       "    <tr>\n",
       "      <th>714</th>\n",
       "      <td>134</td>\n",
       "      <td>3</td>\n",
       "      <td>Fail</td>\n",
       "      <td>Fail</td>\n",
       "    </tr>\n",
       "  </tbody>\n",
       "</table>\n",
       "</div>"
      ],
      "text/plain": [
       "     SKS  Jml_Nilai_Fail Label_Aktual Label_Prediksi\n",
       "651  144               0         Pass           Pass\n",
       "637  144               0         Pass           Pass\n",
       "545  145               1         Fail           Fail\n",
       "230   82               4         Fail           Fail\n",
       "267   69               5         Fail           Fail\n",
       "573  144               1         Fail           Fail\n",
       "652  144               2         Fail           Fail\n",
       "324   40               0         Fail           Fail\n",
       "564  145               0         Pass           Pass\n",
       "714  134               3         Fail           Fail"
      ]
     },
     "execution_count": 58,
     "metadata": {},
     "output_type": "execute_result"
    }
   ],
   "source": [
    "sample_data = X_test_new.sample(10, random_state=42)\n",
    "sample_indices = sample_data.index\n",
    "sample_data = sample_data[['SKS', 'Jml_Nilai_Fail']]\n",
    "\n",
    "predicted_labels_encoded = model_new.predict(sample_data)\n",
    "actual_labels_encoded = y_test.loc[sample_indices]\n",
    "\n",
    "classification_map = {0: le.classes_[0], 1: le.classes_[1]}\n",
    "\n",
    "sample_data['Label_Aktual'] = actual_labels_encoded.map(classification_map)\n",
    "sample_data['Label_Prediksi'] = pd.Series(\n",
    "    predicted_labels_encoded,\n",
    "    index=sample_data.index\n",
    ").map(classification_map)\n",
    "\n",
    "print(\"10 Sampel Data Testing dengan Hasil Prediksi:\")\n",
    "sample_data\n"
   ]
  }
 ],
 "metadata": {
  "kernelspec": {
   "display_name": "datnal",
   "language": "python",
   "name": "python3"
  },
  "language_info": {
   "codemirror_mode": {
    "name": "ipython",
    "version": 3
   },
   "file_extension": ".py",
   "mimetype": "text/x-python",
   "name": "python",
   "nbconvert_exporter": "python",
   "pygments_lexer": "ipython3",
   "version": "3.13.7"
  }
 },
 "nbformat": 4,
 "nbformat_minor": 5
}
